{
  "cells": [
    {
      "cell_type": "markdown",
      "metadata": {
        "id": "view-in-github",
        "colab_type": "text"
      },
      "source": [
        "<a href=\"https://colab.research.google.com/github/GulnazaS/image2latex/blob/main/image2latex.ipynb\" target=\"_parent\"><img src=\"https://colab.research.google.com/assets/colab-badge.svg\" alt=\"Open In Colab\"/></a>"
      ]
    },
    {
      "cell_type": "markdown",
      "source": [
        "# Скачивание утилит"
      ],
      "metadata": {
        "id": "RSceOi5p_MPo"
      },
      "id": "RSceOi5p_MPo"
    },
    {
      "cell_type": "code",
      "source": [
        "!pip install torchvision\n",
        "!pip install tqdm\n",
        "!pip install chardet\n",
        "!pip install torchmetrics"
      ],
      "metadata": {
        "id": "hynYJMixxKef"
      },
      "id": "hynYJMixxKef",
      "execution_count": null,
      "outputs": []
    },
    {
      "cell_type": "markdown",
      "source": [
        "# Импорт библиотек"
      ],
      "metadata": {
        "id": "mzuLDA3B_PNE"
      },
      "id": "mzuLDA3B_PNE"
    },
    {
      "cell_type": "code",
      "execution_count": 2,
      "id": "943eece4-4926-4c72-b6c8-cc4f3a4680e5",
      "metadata": {
        "id": "943eece4-4926-4c72-b6c8-cc4f3a4680e5"
      },
      "outputs": [],
      "source": [
        "import os\n",
        "import pandas as pd\n",
        "import matplotlib.pyplot as plt\n",
        "from PIL import Image\n",
        "import tarfile\n",
        "import json\n",
        "import chardet\n",
        "from tensorflow.keras.preprocessing.text import Tokenizer\n",
        "\n",
        "import torchvision.transforms as T\n",
        "from torch.utils.data import Dataset, DataLoader\n",
        "\n",
        "import gc\n",
        "\n",
        "import torch\n",
        "from torchvision.models import mobilenet_v2, MobileNet_V2_Weights\n",
        "from torch import nn\n",
        "from torch.nn.utils.rnn import pack_padded_sequence, pad_packed_sequence\n",
        "from torch.distributions.categorical import Categorical\n",
        "\n",
        "from torchmetrics import BLEUScore\n",
        "\n",
        "import torch.nn as nn\n",
        "from tqdm import tqdm\n",
        "\n",
        "from sklearn.model_selection import train_test_split\n",
        "\n",
        "from IPython.display import clear_output\n",
        "from tqdm.notebook import tqdm\n",
        "import numpy as np"
      ]
    },
    {
      "cell_type": "markdown",
      "source": [
        "# Работа с набором данных"
      ],
      "metadata": {
        "id": "JB4rpfiR7u5R"
      },
      "id": "JB4rpfiR7u5R"
    },
    {
      "cell_type": "code",
      "source": [
        "# Определяем кодировку файла\n",
        "with open('/content/im2latex_formulas.lst', 'rb') as f:\n",
        "    result = chardet.detect(f.read())\n",
        "    encoding = result['encoding']\n",
        "\n",
        "# Создаем пустой список для хранения значений\n",
        "latex_formulas = []\n",
        "\n",
        "# Открываем файл и читаем его содержимое\n",
        "with open('/content//im2latex_formulas.lst', 'r', encoding=encoding) as f:\n",
        "    for index, word in enumerate(f):\n",
        "        # Добавляем слово с порядковым номером в список в формате словаря\n",
        "        latex_formulas.append({\n",
        "            \"id\": index + 1,  # Индекс + 1 для начала с 1\n",
        "            \"description\": word.strip()  # Удаляем символ новой строки\n",
        "        })\n",
        "\n",
        "# Сохраняем список в формате JSON\n",
        "with open('/content/im2latex_formulas.json', 'w', encoding='utf-8') as json_file:\n",
        "    json.dump(latex_formulas, json_file, ensure_ascii=False, indent=4)\n",
        "\n",
        "print(\"Список сохранен в формате JSON.\")"
      ],
      "metadata": {
        "id": "vQgV3yue7p40",
        "colab": {
          "base_uri": "https://localhost:8080/"
        },
        "outputId": "8e006683-52b7-4b68-91d8-4850545825ca"
      },
      "id": "vQgV3yue7p40",
      "execution_count": 3,
      "outputs": [
        {
          "output_type": "stream",
          "name": "stdout",
          "text": [
            "Список сохранен в формате JSON.\n"
          ]
        }
      ]
    },
    {
      "cell_type": "code",
      "source": [
        "def extract_tar(tar_path, extract_path):\n",
        "    # Открываем и извлекаем содержимое архива\n",
        "    try:\n",
        "        with tarfile.open(tar_path, 'r:*') as tar:\n",
        "            tar.extractall(path=extract_path)\n",
        "            print(f\"Файл {tar_path} успешно извлечен в {extract_path}.\")\n",
        "    except tarfile.TarError as e:\n",
        "        print(f\"Ошибка при разархивировании: {e}\")\n",
        "\n",
        "# Пример использования\n",
        "tar_file_path = '/content/formula_images.tar.gz'  # Укажите путь к вашему архиву\n",
        "extract_directory = '/content/'  # Укажите путь для извлечения\n",
        "extract_tar(tar_file_path, extract_directory)"
      ],
      "metadata": {
        "id": "A9ESoina8Apt",
        "colab": {
          "base_uri": "https://localhost:8080/"
        },
        "collapsed": true,
        "outputId": "52e1a6fa-ad7b-487d-ed71-51c392e7f950"
      },
      "id": "A9ESoina8Apt",
      "execution_count": 11,
      "outputs": [
        {
          "output_type": "stream",
          "name": "stdout",
          "text": [
            "Файл /content/formula_images.tar.gz успешно извлечен в /content/.\n"
          ]
        }
      ]
    },
    {
      "cell_type": "code",
      "execution_count": 7,
      "id": "IUHkrcYf0L6G",
      "metadata": {
        "id": "IUHkrcYf0L6G",
        "colab": {
          "base_uri": "https://localhost:8080/"
        },
        "outputId": "1d591981-4e1a-47e5-b46e-9ed7b118d4bf"
      },
      "outputs": [
        {
          "output_type": "stream",
          "name": "stdout",
          "text": [
            "Список сохранен в формате JSON.\n"
          ]
        }
      ],
      "source": [
        "# Определяем кодировку файла\n",
        "with open('/content/im2latex_formulas.lst', 'rb') as f:\n",
        "    result = chardet.detect(f.read())\n",
        "    encoding = result['encoding']\n",
        "\n",
        "# Создаем пустой список для хранения значений\n",
        "latex_formulas = []\n",
        "\n",
        "# Открываем файл и читаем его содержимое\n",
        "with open('/content/im2latex_formulas.lst', 'r', encoding=encoding) as f:\n",
        "    for index, word in enumerate(f):\n",
        "        # Добавляем слово с порядковым номером в список в формате словаря\n",
        "        latex_formulas.append({\n",
        "            \"id\": index + 1,  # Индекс + 1 для начала с 1\n",
        "            \"description\": word.strip()  # Удаляем символ новой строки\n",
        "        })\n",
        "\n",
        "# Сохраняем список в формате JSON\n",
        "with open('/content/im2latex_formulas.json', 'w', encoding='utf-8') as json_file:\n",
        "    json.dump(latex_formulas, json_file, ensure_ascii=False, indent=4)\n",
        "\n",
        "print(\"Список сохранен в формате JSON.\")"
      ]
    },
    {
      "cell_type": "code",
      "execution_count": null,
      "id": "1c51592a-915e-4699-a5c5-5603bc2a0425",
      "metadata": {
        "id": "1c51592a-915e-4699-a5c5-5603bc2a0425",
        "colab": {
          "base_uri": "https://localhost:8080/"
        },
        "outputId": "873ddbc4-7758-442e-b926-73362289ddd6"
      },
      "outputs": [
        {
          "output_type": "execute_result",
          "data": {
            "text/plain": [
              "{'id': 1,\n",
              " 'description': \"\\\\int_{-\\\\epsilon}^\\\\infty dl\\\\: {\\\\rm e}^{-l\\\\zeta}\\t\\\\int_{-\\\\epsilon}^\\\\infty dl' {\\\\rm e}^{-l'\\\\zeta}\\tll'{l'-l \\\\over l+l'} \\\\{3\\\\,\\\\delta''(l) - {3 \\\\over 4}t\\\\,\\\\delta(l) \\\\} =0.\\t\\t\\\\label{eq21}\"}"
            ]
          },
          "metadata": {},
          "execution_count": 14
        }
      ],
      "source": [
        "latex_formulas[0]"
      ]
    },
    {
      "cell_type": "code",
      "execution_count": 8,
      "id": "6a36f0b2-0fa3-433f-bf96-cf5b62031869",
      "metadata": {
        "id": "6a36f0b2-0fa3-433f-bf96-cf5b62031869"
      },
      "outputs": [],
      "source": [
        "def process_latex_images(file_path, output_path, latex_image):\n",
        "    # Открываем файл и читаем его содержимое\n",
        "    with open(file_path, 'r') as f:\n",
        "        for index, line in enumerate(f):\n",
        "            # Разделяем строку на элементы\n",
        "            elements = line.strip().split()  # Удаляем символы новой строки и разделяем по пробелам\n",
        "            if len(elements) >= 2:  # Проверяем, что в строке есть хотя бы два элемента\n",
        "                latex_image.append({\n",
        "                    \"id\": elements[0],  # Первый элемент - id\n",
        "                    \"image_id\": f'{elements[1]}.png'  # Второй элемент - image_id\n",
        "                })\n",
        "\n",
        "    # Сохраняем список в формате JSON\n",
        "    with open(output_path, 'w', encoding='utf-8') as json_file:\n",
        "        json.dump(latex_image, json_file, ensure_ascii=False, indent=4)\n",
        "\n",
        "    print(f\"Список {output_path} сохранен в формате JSON.\")"
      ]
    },
    {
      "cell_type": "code",
      "source": [
        "latex_image = []\n",
        "process_latex_images('/content/im2latex_train.lst', '/content/im2latex.json', latex_image)"
      ],
      "metadata": {
        "id": "N6Z-VPGL8MX4",
        "colab": {
          "base_uri": "https://localhost:8080/"
        },
        "outputId": "298dd6d1-0b8e-42df-d82e-16360bfa405c"
      },
      "id": "N6Z-VPGL8MX4",
      "execution_count": 9,
      "outputs": [
        {
          "output_type": "stream",
          "name": "stdout",
          "text": [
            "Список /content/im2latex.json сохранен в формате JSON.\n"
          ]
        }
      ]
    },
    {
      "cell_type": "code",
      "source": [
        "latex_image[0]"
      ],
      "metadata": {
        "id": "K3YVmrgB8MVN",
        "colab": {
          "base_uri": "https://localhost:8080/"
        },
        "outputId": "74612d33-387f-4e33-a751-738378978caf"
      },
      "id": "K3YVmrgB8MVN",
      "execution_count": null,
      "outputs": [
        {
          "output_type": "execute_result",
          "data": {
            "text/plain": [
              "{'id': '1', 'image_id': '60ee748793.png'}"
            ]
          },
          "metadata": {},
          "execution_count": 17
        }
      ]
    },
    {
      "cell_type": "code",
      "source": [
        "latex_formulas[0]"
      ],
      "metadata": {
        "id": "f4g3T9xr8MSK",
        "colab": {
          "base_uri": "https://localhost:8080/"
        },
        "outputId": "55a7f177-833f-4c52-a726-ff2916dd03a8"
      },
      "id": "f4g3T9xr8MSK",
      "execution_count": null,
      "outputs": [
        {
          "output_type": "execute_result",
          "data": {
            "text/plain": [
              "{'id': 1,\n",
              " 'description': \"\\\\int_{-\\\\epsilon}^\\\\infty dl\\\\: {\\\\rm e}^{-l\\\\zeta}\\t\\\\int_{-\\\\epsilon}^\\\\infty dl' {\\\\rm e}^{-l'\\\\zeta}\\tll'{l'-l \\\\over l+l'} \\\\{3\\\\,\\\\delta''(l) - {3 \\\\over 4}t\\\\,\\\\delta(l) \\\\} =0.\\t\\t\\\\label{eq21}\"}"
            ]
          },
          "metadata": {},
          "execution_count": 18
        }
      ]
    },
    {
      "cell_type": "code",
      "source": [
        "df_formulas = pd.read_json('/content/im2latex_formulas.json')[:10000]\n",
        "df_img = pd.read_json('/content/im2latex.json')[:10000]"
      ],
      "metadata": {
        "id": "8MkuV8GKTmJl"
      },
      "id": "8MkuV8GKTmJl",
      "execution_count": 10,
      "outputs": []
    },
    {
      "cell_type": "code",
      "execution_count": 12,
      "id": "9d280d05-adae-416f-a5b7-2bb49a296f70",
      "metadata": {
        "id": "9d280d05-adae-416f-a5b7-2bb49a296f70",
        "colab": {
          "base_uri": "https://localhost:8080/",
          "height": 424
        },
        "outputId": "e37fe914-9c42-47da-85e9-4a282f6e522f"
      },
      "outputs": [
        {
          "output_type": "execute_result",
          "data": {
            "text/plain": [
              "         id        image_id                                        description\n",
              "0         1  60ee748793.png  \\int_{-\\epsilon}^\\infty dl\\: {\\rm e}^{-l\\zeta}...\n",
              "1         2  66667cee5b.png  ds^{2} = (1 - {qcos\\theta\\over r})^{2\\over 1 +...\n",
              "2         3  1cbb05a562.png  \\widetilde\\gamma_{\\rm hopf}\\simeq\\sum_{n>0}\\wi...\n",
              "3         4  ed164cc822.png  ({\\cal L}_a g)_{ij} = 0, \\ \\ \\ \\ ({\\cal L}_a H...\n",
              "4         5  e265f9dc6b.png  S_{stat} = 2\\pi \\sqrt{N_5^{(1)} N_5^{(2)} N_5^...\n",
              "...     ...             ...                                                ...\n",
              "8081   9995  11ab677532.png  \\label{E12}ds_4^2 =- e^{\\nu} dt^2 + e^{\\l}dr^2...\n",
              "8082   9997  1f02eed518.png  \\Pi^{0}_{c}  = \\frac{\\partial {\\cal{L}}}{\\part...\n",
              "8083   9998  2d83b5cbed.png  \\delta _{i}=\\partial _{i}+w_{i}\\partial _{4}+n...\n",
              "8084   9999  71bf566307.png  \\label{implusphi}\\lim_{x\\rightarrow +\\infty} \\...\n",
              "8085  10000  3b3088dede.png  \\label{3.7} c_{\\mu_i} =\\frac{\\Gamma(\\mu_i)}{\\p...\n",
              "\n",
              "[8086 rows x 3 columns]"
            ],
            "text/html": [
              "\n",
              "  <div id=\"df-52472bc9-d4d5-4933-aa51-e4f894a28f1c\" class=\"colab-df-container\">\n",
              "    <div>\n",
              "<style scoped>\n",
              "    .dataframe tbody tr th:only-of-type {\n",
              "        vertical-align: middle;\n",
              "    }\n",
              "\n",
              "    .dataframe tbody tr th {\n",
              "        vertical-align: top;\n",
              "    }\n",
              "\n",
              "    .dataframe thead th {\n",
              "        text-align: right;\n",
              "    }\n",
              "</style>\n",
              "<table border=\"1\" class=\"dataframe\">\n",
              "  <thead>\n",
              "    <tr style=\"text-align: right;\">\n",
              "      <th></th>\n",
              "      <th>id</th>\n",
              "      <th>image_id</th>\n",
              "      <th>description</th>\n",
              "    </tr>\n",
              "  </thead>\n",
              "  <tbody>\n",
              "    <tr>\n",
              "      <th>0</th>\n",
              "      <td>1</td>\n",
              "      <td>60ee748793.png</td>\n",
              "      <td>\\int_{-\\epsilon}^\\infty dl\\: {\\rm e}^{-l\\zeta}...</td>\n",
              "    </tr>\n",
              "    <tr>\n",
              "      <th>1</th>\n",
              "      <td>2</td>\n",
              "      <td>66667cee5b.png</td>\n",
              "      <td>ds^{2} = (1 - {qcos\\theta\\over r})^{2\\over 1 +...</td>\n",
              "    </tr>\n",
              "    <tr>\n",
              "      <th>2</th>\n",
              "      <td>3</td>\n",
              "      <td>1cbb05a562.png</td>\n",
              "      <td>\\widetilde\\gamma_{\\rm hopf}\\simeq\\sum_{n&gt;0}\\wi...</td>\n",
              "    </tr>\n",
              "    <tr>\n",
              "      <th>3</th>\n",
              "      <td>4</td>\n",
              "      <td>ed164cc822.png</td>\n",
              "      <td>({\\cal L}_a g)_{ij} = 0, \\ \\ \\ \\ ({\\cal L}_a H...</td>\n",
              "    </tr>\n",
              "    <tr>\n",
              "      <th>4</th>\n",
              "      <td>5</td>\n",
              "      <td>e265f9dc6b.png</td>\n",
              "      <td>S_{stat} = 2\\pi \\sqrt{N_5^{(1)} N_5^{(2)} N_5^...</td>\n",
              "    </tr>\n",
              "    <tr>\n",
              "      <th>...</th>\n",
              "      <td>...</td>\n",
              "      <td>...</td>\n",
              "      <td>...</td>\n",
              "    </tr>\n",
              "    <tr>\n",
              "      <th>8081</th>\n",
              "      <td>9995</td>\n",
              "      <td>11ab677532.png</td>\n",
              "      <td>\\label{E12}ds_4^2 =- e^{\\nu} dt^2 + e^{\\l}dr^2...</td>\n",
              "    </tr>\n",
              "    <tr>\n",
              "      <th>8082</th>\n",
              "      <td>9997</td>\n",
              "      <td>1f02eed518.png</td>\n",
              "      <td>\\Pi^{0}_{c}  = \\frac{\\partial {\\cal{L}}}{\\part...</td>\n",
              "    </tr>\n",
              "    <tr>\n",
              "      <th>8083</th>\n",
              "      <td>9998</td>\n",
              "      <td>2d83b5cbed.png</td>\n",
              "      <td>\\delta _{i}=\\partial _{i}+w_{i}\\partial _{4}+n...</td>\n",
              "    </tr>\n",
              "    <tr>\n",
              "      <th>8084</th>\n",
              "      <td>9999</td>\n",
              "      <td>71bf566307.png</td>\n",
              "      <td>\\label{implusphi}\\lim_{x\\rightarrow +\\infty} \\...</td>\n",
              "    </tr>\n",
              "    <tr>\n",
              "      <th>8085</th>\n",
              "      <td>10000</td>\n",
              "      <td>3b3088dede.png</td>\n",
              "      <td>\\label{3.7} c_{\\mu_i} =\\frac{\\Gamma(\\mu_i)}{\\p...</td>\n",
              "    </tr>\n",
              "  </tbody>\n",
              "</table>\n",
              "<p>8086 rows × 3 columns</p>\n",
              "</div>\n",
              "    <div class=\"colab-df-buttons\">\n",
              "\n",
              "  <div class=\"colab-df-container\">\n",
              "    <button class=\"colab-df-convert\" onclick=\"convertToInteractive('df-52472bc9-d4d5-4933-aa51-e4f894a28f1c')\"\n",
              "            title=\"Convert this dataframe to an interactive table.\"\n",
              "            style=\"display:none;\">\n",
              "\n",
              "  <svg xmlns=\"http://www.w3.org/2000/svg\" height=\"24px\" viewBox=\"0 -960 960 960\">\n",
              "    <path d=\"M120-120v-720h720v720H120Zm60-500h600v-160H180v160Zm220 220h160v-160H400v160Zm0 220h160v-160H400v160ZM180-400h160v-160H180v160Zm440 0h160v-160H620v160ZM180-180h160v-160H180v160Zm440 0h160v-160H620v160Z\"/>\n",
              "  </svg>\n",
              "    </button>\n",
              "\n",
              "  <style>\n",
              "    .colab-df-container {\n",
              "      display:flex;\n",
              "      gap: 12px;\n",
              "    }\n",
              "\n",
              "    .colab-df-convert {\n",
              "      background-color: #E8F0FE;\n",
              "      border: none;\n",
              "      border-radius: 50%;\n",
              "      cursor: pointer;\n",
              "      display: none;\n",
              "      fill: #1967D2;\n",
              "      height: 32px;\n",
              "      padding: 0 0 0 0;\n",
              "      width: 32px;\n",
              "    }\n",
              "\n",
              "    .colab-df-convert:hover {\n",
              "      background-color: #E2EBFA;\n",
              "      box-shadow: 0px 1px 2px rgba(60, 64, 67, 0.3), 0px 1px 3px 1px rgba(60, 64, 67, 0.15);\n",
              "      fill: #174EA6;\n",
              "    }\n",
              "\n",
              "    .colab-df-buttons div {\n",
              "      margin-bottom: 4px;\n",
              "    }\n",
              "\n",
              "    [theme=dark] .colab-df-convert {\n",
              "      background-color: #3B4455;\n",
              "      fill: #D2E3FC;\n",
              "    }\n",
              "\n",
              "    [theme=dark] .colab-df-convert:hover {\n",
              "      background-color: #434B5C;\n",
              "      box-shadow: 0px 1px 3px 1px rgba(0, 0, 0, 0.15);\n",
              "      filter: drop-shadow(0px 1px 2px rgba(0, 0, 0, 0.3));\n",
              "      fill: #FFFFFF;\n",
              "    }\n",
              "  </style>\n",
              "\n",
              "    <script>\n",
              "      const buttonEl =\n",
              "        document.querySelector('#df-52472bc9-d4d5-4933-aa51-e4f894a28f1c button.colab-df-convert');\n",
              "      buttonEl.style.display =\n",
              "        google.colab.kernel.accessAllowed ? 'block' : 'none';\n",
              "\n",
              "      async function convertToInteractive(key) {\n",
              "        const element = document.querySelector('#df-52472bc9-d4d5-4933-aa51-e4f894a28f1c');\n",
              "        const dataTable =\n",
              "          await google.colab.kernel.invokeFunction('convertToInteractive',\n",
              "                                                    [key], {});\n",
              "        if (!dataTable) return;\n",
              "\n",
              "        const docLinkHtml = 'Like what you see? Visit the ' +\n",
              "          '<a target=\"_blank\" href=https://colab.research.google.com/notebooks/data_table.ipynb>data table notebook</a>'\n",
              "          + ' to learn more about interactive tables.';\n",
              "        element.innerHTML = '';\n",
              "        dataTable['output_type'] = 'display_data';\n",
              "        await google.colab.output.renderOutput(dataTable, element);\n",
              "        const docLink = document.createElement('div');\n",
              "        docLink.innerHTML = docLinkHtml;\n",
              "        element.appendChild(docLink);\n",
              "      }\n",
              "    </script>\n",
              "  </div>\n",
              "\n",
              "\n",
              "<div id=\"df-50153397-a9fc-4213-af2f-f00635fc23f7\">\n",
              "  <button class=\"colab-df-quickchart\" onclick=\"quickchart('df-50153397-a9fc-4213-af2f-f00635fc23f7')\"\n",
              "            title=\"Suggest charts\"\n",
              "            style=\"display:none;\">\n",
              "\n",
              "<svg xmlns=\"http://www.w3.org/2000/svg\" height=\"24px\"viewBox=\"0 0 24 24\"\n",
              "     width=\"24px\">\n",
              "    <g>\n",
              "        <path d=\"M19 3H5c-1.1 0-2 .9-2 2v14c0 1.1.9 2 2 2h14c1.1 0 2-.9 2-2V5c0-1.1-.9-2-2-2zM9 17H7v-7h2v7zm4 0h-2V7h2v10zm4 0h-2v-4h2v4z\"/>\n",
              "    </g>\n",
              "</svg>\n",
              "  </button>\n",
              "\n",
              "<style>\n",
              "  .colab-df-quickchart {\n",
              "      --bg-color: #E8F0FE;\n",
              "      --fill-color: #1967D2;\n",
              "      --hover-bg-color: #E2EBFA;\n",
              "      --hover-fill-color: #174EA6;\n",
              "      --disabled-fill-color: #AAA;\n",
              "      --disabled-bg-color: #DDD;\n",
              "  }\n",
              "\n",
              "  [theme=dark] .colab-df-quickchart {\n",
              "      --bg-color: #3B4455;\n",
              "      --fill-color: #D2E3FC;\n",
              "      --hover-bg-color: #434B5C;\n",
              "      --hover-fill-color: #FFFFFF;\n",
              "      --disabled-bg-color: #3B4455;\n",
              "      --disabled-fill-color: #666;\n",
              "  }\n",
              "\n",
              "  .colab-df-quickchart {\n",
              "    background-color: var(--bg-color);\n",
              "    border: none;\n",
              "    border-radius: 50%;\n",
              "    cursor: pointer;\n",
              "    display: none;\n",
              "    fill: var(--fill-color);\n",
              "    height: 32px;\n",
              "    padding: 0;\n",
              "    width: 32px;\n",
              "  }\n",
              "\n",
              "  .colab-df-quickchart:hover {\n",
              "    background-color: var(--hover-bg-color);\n",
              "    box-shadow: 0 1px 2px rgba(60, 64, 67, 0.3), 0 1px 3px 1px rgba(60, 64, 67, 0.15);\n",
              "    fill: var(--button-hover-fill-color);\n",
              "  }\n",
              "\n",
              "  .colab-df-quickchart-complete:disabled,\n",
              "  .colab-df-quickchart-complete:disabled:hover {\n",
              "    background-color: var(--disabled-bg-color);\n",
              "    fill: var(--disabled-fill-color);\n",
              "    box-shadow: none;\n",
              "  }\n",
              "\n",
              "  .colab-df-spinner {\n",
              "    border: 2px solid var(--fill-color);\n",
              "    border-color: transparent;\n",
              "    border-bottom-color: var(--fill-color);\n",
              "    animation:\n",
              "      spin 1s steps(1) infinite;\n",
              "  }\n",
              "\n",
              "  @keyframes spin {\n",
              "    0% {\n",
              "      border-color: transparent;\n",
              "      border-bottom-color: var(--fill-color);\n",
              "      border-left-color: var(--fill-color);\n",
              "    }\n",
              "    20% {\n",
              "      border-color: transparent;\n",
              "      border-left-color: var(--fill-color);\n",
              "      border-top-color: var(--fill-color);\n",
              "    }\n",
              "    30% {\n",
              "      border-color: transparent;\n",
              "      border-left-color: var(--fill-color);\n",
              "      border-top-color: var(--fill-color);\n",
              "      border-right-color: var(--fill-color);\n",
              "    }\n",
              "    40% {\n",
              "      border-color: transparent;\n",
              "      border-right-color: var(--fill-color);\n",
              "      border-top-color: var(--fill-color);\n",
              "    }\n",
              "    60% {\n",
              "      border-color: transparent;\n",
              "      border-right-color: var(--fill-color);\n",
              "    }\n",
              "    80% {\n",
              "      border-color: transparent;\n",
              "      border-right-color: var(--fill-color);\n",
              "      border-bottom-color: var(--fill-color);\n",
              "    }\n",
              "    90% {\n",
              "      border-color: transparent;\n",
              "      border-bottom-color: var(--fill-color);\n",
              "    }\n",
              "  }\n",
              "</style>\n",
              "\n",
              "  <script>\n",
              "    async function quickchart(key) {\n",
              "      const quickchartButtonEl =\n",
              "        document.querySelector('#' + key + ' button');\n",
              "      quickchartButtonEl.disabled = true;  // To prevent multiple clicks.\n",
              "      quickchartButtonEl.classList.add('colab-df-spinner');\n",
              "      try {\n",
              "        const charts = await google.colab.kernel.invokeFunction(\n",
              "            'suggestCharts', [key], {});\n",
              "      } catch (error) {\n",
              "        console.error('Error during call to suggestCharts:', error);\n",
              "      }\n",
              "      quickchartButtonEl.classList.remove('colab-df-spinner');\n",
              "      quickchartButtonEl.classList.add('colab-df-quickchart-complete');\n",
              "    }\n",
              "    (() => {\n",
              "      let quickchartButtonEl =\n",
              "        document.querySelector('#df-50153397-a9fc-4213-af2f-f00635fc23f7 button');\n",
              "      quickchartButtonEl.style.display =\n",
              "        google.colab.kernel.accessAllowed ? 'block' : 'none';\n",
              "    })();\n",
              "  </script>\n",
              "</div>\n",
              "    </div>\n",
              "  </div>\n"
            ],
            "application/vnd.google.colaboratory.intrinsic+json": {
              "type": "dataframe",
              "variable_name": "descriptions",
              "summary": "{\n  \"name\": \"descriptions\",\n  \"rows\": 8086,\n  \"fields\": [\n    {\n      \"column\": \"id\",\n      \"properties\": {\n        \"dtype\": \"number\",\n        \"std\": 2890,\n        \"min\": 1,\n        \"max\": 10000,\n        \"num_unique_values\": 8086,\n        \"samples\": [\n          9287,\n          2037,\n          8268\n        ],\n        \"semantic_type\": \"\",\n        \"description\": \"\"\n      }\n    },\n    {\n      \"column\": \"image_id\",\n      \"properties\": {\n        \"dtype\": \"string\",\n        \"num_unique_values\": 8086,\n        \"samples\": [\n          \"115a28c2ef.png\",\n          \"741cc82143.png\",\n          \"70f812f12f.png\"\n        ],\n        \"semantic_type\": \"\",\n        \"description\": \"\"\n      }\n    },\n    {\n      \"column\": \"description\",\n      \"properties\": {\n        \"dtype\": \"string\",\n        \"num_unique_values\": 8075,\n        \"samples\": [\n          \"\\\\tilde{L}_{0}^{k,k}(e^{x})=\\\\sum_{d=0}^{\\\\infty}\\\\frac{(kd)!}{(d!)^{k}}e^{dx},\\\\label{po}\",\n          \"\\\\partial_- A_+ -  \\\\partial_+ A_- =  2i \\\\vec{\\\\nabla} \\\\times {\\\\vec{A}} =  2i B =  i \\\\vec{\\\\nabla}^2 \\\\ln \\\\rho ,\\\\label{aap}\",\n          \"\\\\label{e107a}\\\\left.\\\\tilde{{\\\\cal R}}(g)\\\\right\\\\vert\\\\sb{\\\\phi(\\\\tau)=nx(\\\\tau)}={\\\\cal R}(g),\\\\quad\\\\left.\\\\tilde{K}\\\\right\\\\vert\\\\sb{\\\\phi(\\\\tau)=nx(\\\\tau)}=K,\\\\quad\\\\left.\\\\tilde{B}\\\\right\\\\vert\\\\sb{\\\\phi(\\\\tau)=nx(\\\\tau)}=B,\"\n        ],\n        \"semantic_type\": \"\",\n        \"description\": \"\"\n      }\n    }\n  ]\n}"
            }
          },
          "metadata": {},
          "execution_count": 12
        }
      ],
      "source": [
        "def merge_datasets(df_img, df_formulas):\n",
        "    # Объединяем DataFrame по столбцу 'id'\n",
        "    df = pd.merge(df_img, df_formulas, on='id')\n",
        "    return df\n",
        "\n",
        "descriptions = merge_datasets(df_img, df_formulas)\n",
        "descriptions"
      ]
    },
    {
      "cell_type": "code",
      "source": [
        "descriptions.info()"
      ],
      "metadata": {
        "id": "K0M2HZWSSewr",
        "colab": {
          "base_uri": "https://localhost:8080/"
        },
        "outputId": "85607cdb-a148-4669-938a-6b4d99e8251f"
      },
      "id": "K0M2HZWSSewr",
      "execution_count": 13,
      "outputs": [
        {
          "output_type": "stream",
          "name": "stdout",
          "text": [
            "<class 'pandas.core.frame.DataFrame'>\n",
            "RangeIndex: 8086 entries, 0 to 8085\n",
            "Data columns (total 3 columns):\n",
            " #   Column       Non-Null Count  Dtype \n",
            "---  ------       --------------  ----- \n",
            " 0   id           8086 non-null   int64 \n",
            " 1   image_id     8086 non-null   object\n",
            " 2   description  8086 non-null   object\n",
            "dtypes: int64(1), object(2)\n",
            "memory usage: 189.6+ KB\n"
          ]
        }
      ]
    },
    {
      "cell_type": "code",
      "source": [
        "image_file = descriptions.image_id.sample(1).iloc[0]\n",
        "image_file"
      ],
      "metadata": {
        "id": "MN3QMAfmT8xm",
        "colab": {
          "base_uri": "https://localhost:8080/",
          "height": 36
        },
        "outputId": "c7fde421-3aeb-4a57-8317-a6bb872cf4d0"
      },
      "id": "MN3QMAfmT8xm",
      "execution_count": null,
      "outputs": [
        {
          "output_type": "execute_result",
          "data": {
            "text/plain": [
              "'719b5681e9.png'"
            ],
            "application/vnd.google.colaboratory.intrinsic+json": {
              "type": "string"
            }
          },
          "metadata": {},
          "execution_count": 23
        }
      ]
    },
    {
      "cell_type": "code",
      "execution_count": null,
      "id": "b20c7c87-d9ce-4fab-9ed0-6ecc8faf5475",
      "metadata": {
        "id": "b20c7c87-d9ce-4fab-9ed0-6ecc8faf5475",
        "scrolled": true,
        "collapsed": true,
        "colab": {
          "base_uri": "https://localhost:8080/",
          "height": 1000
        },
        "outputId": "083a8c3f-c5f0-41a6-8a2e-6c36e358a02a"
      },
      "outputs": [
        {
          "output_type": "stream",
          "name": "stdout",
          "text": [
            "1: D_+{\\cal L}_-+D_-{\\cal L}_++\\{{\\cal L}_+,{\\cal L}_-\\}=0\n"
          ]
        },
        {
          "output_type": "execute_result",
          "data": {
            "text/plain": [
              "<PIL.PngImagePlugin.PngImageFile image mode=P size=1654x2339>"
            ],
            "image/png": "[encoded data removed]"
          },
          "metadata": {},
          "execution_count": 13
        }
      ],
      "source": [
        "image_file = descriptions.image_id.sample(1).iloc[0]\n",
        "for i, description in enumerate(descriptions[descriptions.image_id == image_file].description):\n",
        "    print(f'{i + 1}:', description)\n",
        "\n",
        "# Открываем изображение\n",
        "image_path = os.path.join('/content/formula_images', f'{image_file}')\n",
        "Image.open(image_path)"
      ]
    },
    {
      "cell_type": "code",
      "execution_count": 14,
      "id": "b470f6c1-fb91-461a-9f16-b47b1fe76ed6",
      "metadata": {
        "id": "b470f6c1-fb91-461a-9f16-b47b1fe76ed6"
      },
      "outputs": [],
      "source": [
        "def processing_data(df, image_list):\n",
        "    # Создаем словарь, где ключ - уникальный идентификатор изображения, а значение - его индекс\n",
        "    ids = {k: i for i, k in enumerate(df.image_id.unique())}\n",
        "\n",
        "    # Обновляем список идентификаторов изображений, отсортированный по индексу\n",
        "    image_list.clear()  # Очищаем переданный список, если он не пустой\n",
        "    image_list.extend(sorted(ids.keys(), key=lambda k: ids[k]))  # Заполняем его новыми значениями\n",
        "\n",
        "    # Обновляем столбец 'id' в DataFrame\n",
        "    df['id'] = df.image_id.map(ids)\n",
        "\n",
        "    return df"
      ]
    },
    {
      "cell_type": "code",
      "execution_count": 15,
      "id": "2607331a-acb1-4a5a-88b5-b5aad8d82af0",
      "metadata": {
        "id": "2607331a-acb1-4a5a-88b5-b5aad8d82af0",
        "colab": {
          "base_uri": "https://localhost:8080/",
          "height": 424
        },
        "outputId": "4a95779b-cc2e-4b1c-ffd9-43fe76cc86f4"
      },
      "outputs": [
        {
          "output_type": "execute_result",
          "data": {
            "text/plain": [
              "        id        image_id                                        description\n",
              "0        0  60ee748793.png  \\int_{-\\epsilon}^\\infty dl\\: {\\rm e}^{-l\\zeta}...\n",
              "1        1  66667cee5b.png  ds^{2} = (1 - {qcos\\theta\\over r})^{2\\over 1 +...\n",
              "2        2  1cbb05a562.png  \\widetilde\\gamma_{\\rm hopf}\\simeq\\sum_{n>0}\\wi...\n",
              "3        3  ed164cc822.png  ({\\cal L}_a g)_{ij} = 0, \\ \\ \\ \\ ({\\cal L}_a H...\n",
              "4        4  e265f9dc6b.png  S_{stat} = 2\\pi \\sqrt{N_5^{(1)} N_5^{(2)} N_5^...\n",
              "...    ...             ...                                                ...\n",
              "8081  8081  11ab677532.png  \\label{E12}ds_4^2 =- e^{\\nu} dt^2 + e^{\\l}dr^2...\n",
              "8082  8082  1f02eed518.png  \\Pi^{0}_{c}  = \\frac{\\partial {\\cal{L}}}{\\part...\n",
              "8083  8083  2d83b5cbed.png  \\delta _{i}=\\partial _{i}+w_{i}\\partial _{4}+n...\n",
              "8084  8084  71bf566307.png  \\label{implusphi}\\lim_{x\\rightarrow +\\infty} \\...\n",
              "8085  8085  3b3088dede.png  \\label{3.7} c_{\\mu_i} =\\frac{\\Gamma(\\mu_i)}{\\p...\n",
              "\n",
              "[8086 rows x 3 columns]"
            ],
            "text/html": [
              "\n",
              "  <div id=\"df-fa0e9799-4451-45f3-989f-e335612c7d68\" class=\"colab-df-container\">\n",
              "    <div>\n",
              "<style scoped>\n",
              "    .dataframe tbody tr th:only-of-type {\n",
              "        vertical-align: middle;\n",
              "    }\n",
              "\n",
              "    .dataframe tbody tr th {\n",
              "        vertical-align: top;\n",
              "    }\n",
              "\n",
              "    .dataframe thead th {\n",
              "        text-align: right;\n",
              "    }\n",
              "</style>\n",
              "<table border=\"1\" class=\"dataframe\">\n",
              "  <thead>\n",
              "    <tr style=\"text-align: right;\">\n",
              "      <th></th>\n",
              "      <th>id</th>\n",
              "      <th>image_id</th>\n",
              "      <th>description</th>\n",
              "    </tr>\n",
              "  </thead>\n",
              "  <tbody>\n",
              "    <tr>\n",
              "      <th>0</th>\n",
              "      <td>0</td>\n",
              "      <td>60ee748793.png</td>\n",
              "      <td>\\int_{-\\epsilon}^\\infty dl\\: {\\rm e}^{-l\\zeta}...</td>\n",
              "    </tr>\n",
              "    <tr>\n",
              "      <th>1</th>\n",
              "      <td>1</td>\n",
              "      <td>66667cee5b.png</td>\n",
              "      <td>ds^{2} = (1 - {qcos\\theta\\over r})^{2\\over 1 +...</td>\n",
              "    </tr>\n",
              "    <tr>\n",
              "      <th>2</th>\n",
              "      <td>2</td>\n",
              "      <td>1cbb05a562.png</td>\n",
              "      <td>\\widetilde\\gamma_{\\rm hopf}\\simeq\\sum_{n&gt;0}\\wi...</td>\n",
              "    </tr>\n",
              "    <tr>\n",
              "      <th>3</th>\n",
              "      <td>3</td>\n",
              "      <td>ed164cc822.png</td>\n",
              "      <td>({\\cal L}_a g)_{ij} = 0, \\ \\ \\ \\ ({\\cal L}_a H...</td>\n",
              "    </tr>\n",
              "    <tr>\n",
              "      <th>4</th>\n",
              "      <td>4</td>\n",
              "      <td>e265f9dc6b.png</td>\n",
              "      <td>S_{stat} = 2\\pi \\sqrt{N_5^{(1)} N_5^{(2)} N_5^...</td>\n",
              "    </tr>\n",
              "    <tr>\n",
              "      <th>...</th>\n",
              "      <td>...</td>\n",
              "      <td>...</td>\n",
              "      <td>...</td>\n",
              "    </tr>\n",
              "    <tr>\n",
              "      <th>8081</th>\n",
              "      <td>8081</td>\n",
              "      <td>11ab677532.png</td>\n",
              "      <td>\\label{E12}ds_4^2 =- e^{\\nu} dt^2 + e^{\\l}dr^2...</td>\n",
              "    </tr>\n",
              "    <tr>\n",
              "      <th>8082</th>\n",
              "      <td>8082</td>\n",
              "      <td>1f02eed518.png</td>\n",
              "      <td>\\Pi^{0}_{c}  = \\frac{\\partial {\\cal{L}}}{\\part...</td>\n",
              "    </tr>\n",
              "    <tr>\n",
              "      <th>8083</th>\n",
              "      <td>8083</td>\n",
              "      <td>2d83b5cbed.png</td>\n",
              "      <td>\\delta _{i}=\\partial _{i}+w_{i}\\partial _{4}+n...</td>\n",
              "    </tr>\n",
              "    <tr>\n",
              "      <th>8084</th>\n",
              "      <td>8084</td>\n",
              "      <td>71bf566307.png</td>\n",
              "      <td>\\label{implusphi}\\lim_{x\\rightarrow +\\infty} \\...</td>\n",
              "    </tr>\n",
              "    <tr>\n",
              "      <th>8085</th>\n",
              "      <td>8085</td>\n",
              "      <td>3b3088dede.png</td>\n",
              "      <td>\\label{3.7} c_{\\mu_i} =\\frac{\\Gamma(\\mu_i)}{\\p...</td>\n",
              "    </tr>\n",
              "  </tbody>\n",
              "</table>\n",
              "<p>8086 rows × 3 columns</p>\n",
              "</div>\n",
              "    <div class=\"colab-df-buttons\">\n",
              "\n",
              "  <div class=\"colab-df-container\">\n",
              "    <button class=\"colab-df-convert\" onclick=\"convertToInteractive('df-fa0e9799-4451-45f3-989f-e335612c7d68')\"\n",
              "            title=\"Convert this dataframe to an interactive table.\"\n",
              "            style=\"display:none;\">\n",
              "\n",
              "  <svg xmlns=\"http://www.w3.org/2000/svg\" height=\"24px\" viewBox=\"0 -960 960 960\">\n",
              "    <path d=\"M120-120v-720h720v720H120Zm60-500h600v-160H180v160Zm220 220h160v-160H400v160Zm0 220h160v-160H400v160ZM180-400h160v-160H180v160Zm440 0h160v-160H620v160ZM180-180h160v-160H180v160Zm440 0h160v-160H620v160Z\"/>\n",
              "  </svg>\n",
              "    </button>\n",
              "\n",
              "  <style>\n",
              "    .colab-df-container {\n",
              "      display:flex;\n",
              "      gap: 12px;\n",
              "    }\n",
              "\n",
              "    .colab-df-convert {\n",
              "      background-color: #E8F0FE;\n",
              "      border: none;\n",
              "      border-radius: 50%;\n",
              "      cursor: pointer;\n",
              "      display: none;\n",
              "      fill: #1967D2;\n",
              "      height: 32px;\n",
              "      padding: 0 0 0 0;\n",
              "      width: 32px;\n",
              "    }\n",
              "\n",
              "    .colab-df-convert:hover {\n",
              "      background-color: #E2EBFA;\n",
              "      box-shadow: 0px 1px 2px rgba(60, 64, 67, 0.3), 0px 1px 3px 1px rgba(60, 64, 67, 0.15);\n",
              "      fill: #174EA6;\n",
              "    }\n",
              "\n",
              "    .colab-df-buttons div {\n",
              "      margin-bottom: 4px;\n",
              "    }\n",
              "\n",
              "    [theme=dark] .colab-df-convert {\n",
              "      background-color: #3B4455;\n",
              "      fill: #D2E3FC;\n",
              "    }\n",
              "\n",
              "    [theme=dark] .colab-df-convert:hover {\n",
              "      background-color: #434B5C;\n",
              "      box-shadow: 0px 1px 3px 1px rgba(0, 0, 0, 0.15);\n",
              "      filter: drop-shadow(0px 1px 2px rgba(0, 0, 0, 0.3));\n",
              "      fill: #FFFFFF;\n",
              "    }\n",
              "  </style>\n",
              "\n",
              "    <script>\n",
              "      const buttonEl =\n",
              "        document.querySelector('#df-fa0e9799-4451-45f3-989f-e335612c7d68 button.colab-df-convert');\n",
              "      buttonEl.style.display =\n",
              "        google.colab.kernel.accessAllowed ? 'block' : 'none';\n",
              "\n",
              "      async function convertToInteractive(key) {\n",
              "        const element = document.querySelector('#df-fa0e9799-4451-45f3-989f-e335612c7d68');\n",
              "        const dataTable =\n",
              "          await google.colab.kernel.invokeFunction('convertToInteractive',\n",
              "                                                    [key], {});\n",
              "        if (!dataTable) return;\n",
              "\n",
              "        const docLinkHtml = 'Like what you see? Visit the ' +\n",
              "          '<a target=\"_blank\" href=https://colab.research.google.com/notebooks/data_table.ipynb>data table notebook</a>'\n",
              "          + ' to learn more about interactive tables.';\n",
              "        element.innerHTML = '';\n",
              "        dataTable['output_type'] = 'display_data';\n",
              "        await google.colab.output.renderOutput(dataTable, element);\n",
              "        const docLink = document.createElement('div');\n",
              "        docLink.innerHTML = docLinkHtml;\n",
              "        element.appendChild(docLink);\n",
              "      }\n",
              "    </script>\n",
              "  </div>\n",
              "\n",
              "\n",
              "<div id=\"df-bf8878fe-b1c1-4ec1-921c-a711871f0cde\">\n",
              "  <button class=\"colab-df-quickchart\" onclick=\"quickchart('df-bf8878fe-b1c1-4ec1-921c-a711871f0cde')\"\n",
              "            title=\"Suggest charts\"\n",
              "            style=\"display:none;\">\n",
              "\n",
              "<svg xmlns=\"http://www.w3.org/2000/svg\" height=\"24px\"viewBox=\"0 0 24 24\"\n",
              "     width=\"24px\">\n",
              "    <g>\n",
              "        <path d=\"M19 3H5c-1.1 0-2 .9-2 2v14c0 1.1.9 2 2 2h14c1.1 0 2-.9 2-2V5c0-1.1-.9-2-2-2zM9 17H7v-7h2v7zm4 0h-2V7h2v10zm4 0h-2v-4h2v4z\"/>\n",
              "    </g>\n",
              "</svg>\n",
              "  </button>\n",
              "\n",
              "<style>\n",
              "  .colab-df-quickchart {\n",
              "      --bg-color: #E8F0FE;\n",
              "      --fill-color: #1967D2;\n",
              "      --hover-bg-color: #E2EBFA;\n",
              "      --hover-fill-color: #174EA6;\n",
              "      --disabled-fill-color: #AAA;\n",
              "      --disabled-bg-color: #DDD;\n",
              "  }\n",
              "\n",
              "  [theme=dark] .colab-df-quickchart {\n",
              "      --bg-color: #3B4455;\n",
              "      --fill-color: #D2E3FC;\n",
              "      --hover-bg-color: #434B5C;\n",
              "      --hover-fill-color: #FFFFFF;\n",
              "      --disabled-bg-color: #3B4455;\n",
              "      --disabled-fill-color: #666;\n",
              "  }\n",
              "\n",
              "  .colab-df-quickchart {\n",
              "    background-color: var(--bg-color);\n",
              "    border: none;\n",
              "    border-radius: 50%;\n",
              "    cursor: pointer;\n",
              "    display: none;\n",
              "    fill: var(--fill-color);\n",
              "    height: 32px;\n",
              "    padding: 0;\n",
              "    width: 32px;\n",
              "  }\n",
              "\n",
              "  .colab-df-quickchart:hover {\n",
              "    background-color: var(--hover-bg-color);\n",
              "    box-shadow: 0 1px 2px rgba(60, 64, 67, 0.3), 0 1px 3px 1px rgba(60, 64, 67, 0.15);\n",
              "    fill: var(--button-hover-fill-color);\n",
              "  }\n",
              "\n",
              "  .colab-df-quickchart-complete:disabled,\n",
              "  .colab-df-quickchart-complete:disabled:hover {\n",
              "    background-color: var(--disabled-bg-color);\n",
              "    fill: var(--disabled-fill-color);\n",
              "    box-shadow: none;\n",
              "  }\n",
              "\n",
              "  .colab-df-spinner {\n",
              "    border: 2px solid var(--fill-color);\n",
              "    border-color: transparent;\n",
              "    border-bottom-color: var(--fill-color);\n",
              "    animation:\n",
              "      spin 1s steps(1) infinite;\n",
              "  }\n",
              "\n",
              "  @keyframes spin {\n",
              "    0% {\n",
              "      border-color: transparent;\n",
              "      border-bottom-color: var(--fill-color);\n",
              "      border-left-color: var(--fill-color);\n",
              "    }\n",
              "    20% {\n",
              "      border-color: transparent;\n",
              "      border-left-color: var(--fill-color);\n",
              "      border-top-color: var(--fill-color);\n",
              "    }\n",
              "    30% {\n",
              "      border-color: transparent;\n",
              "      border-left-color: var(--fill-color);\n",
              "      border-top-color: var(--fill-color);\n",
              "      border-right-color: var(--fill-color);\n",
              "    }\n",
              "    40% {\n",
              "      border-color: transparent;\n",
              "      border-right-color: var(--fill-color);\n",
              "      border-top-color: var(--fill-color);\n",
              "    }\n",
              "    60% {\n",
              "      border-color: transparent;\n",
              "      border-right-color: var(--fill-color);\n",
              "    }\n",
              "    80% {\n",
              "      border-color: transparent;\n",
              "      border-right-color: var(--fill-color);\n",
              "      border-bottom-color: var(--fill-color);\n",
              "    }\n",
              "    90% {\n",
              "      border-color: transparent;\n",
              "      border-bottom-color: var(--fill-color);\n",
              "    }\n",
              "  }\n",
              "</style>\n",
              "\n",
              "  <script>\n",
              "    async function quickchart(key) {\n",
              "      const quickchartButtonEl =\n",
              "        document.querySelector('#' + key + ' button');\n",
              "      quickchartButtonEl.disabled = true;  // To prevent multiple clicks.\n",
              "      quickchartButtonEl.classList.add('colab-df-spinner');\n",
              "      try {\n",
              "        const charts = await google.colab.kernel.invokeFunction(\n",
              "            'suggestCharts', [key], {});\n",
              "      } catch (error) {\n",
              "        console.error('Error during call to suggestCharts:', error);\n",
              "      }\n",
              "      quickchartButtonEl.classList.remove('colab-df-spinner');\n",
              "      quickchartButtonEl.classList.add('colab-df-quickchart-complete');\n",
              "    }\n",
              "    (() => {\n",
              "      let quickchartButtonEl =\n",
              "        document.querySelector('#df-bf8878fe-b1c1-4ec1-921c-a711871f0cde button');\n",
              "      quickchartButtonEl.style.display =\n",
              "        google.colab.kernel.accessAllowed ? 'block' : 'none';\n",
              "    })();\n",
              "  </script>\n",
              "</div>\n",
              "    </div>\n",
              "  </div>\n"
            ],
            "application/vnd.google.colaboratory.intrinsic+json": {
              "type": "dataframe",
              "variable_name": "descriptions",
              "summary": "{\n  \"name\": \"descriptions\",\n  \"rows\": 8086,\n  \"fields\": [\n    {\n      \"column\": \"id\",\n      \"properties\": {\n        \"dtype\": \"number\",\n        \"std\": 2334,\n        \"min\": 0,\n        \"max\": 8085,\n        \"num_unique_values\": 8086,\n        \"samples\": [\n          7498,\n          1634,\n          6667\n        ],\n        \"semantic_type\": \"\",\n        \"description\": \"\"\n      }\n    },\n    {\n      \"column\": \"image_id\",\n      \"properties\": {\n        \"dtype\": \"string\",\n        \"num_unique_values\": 8086,\n        \"samples\": [\n          \"115a28c2ef.png\",\n          \"741cc82143.png\",\n          \"70f812f12f.png\"\n        ],\n        \"semantic_type\": \"\",\n        \"description\": \"\"\n      }\n    },\n    {\n      \"column\": \"description\",\n      \"properties\": {\n        \"dtype\": \"string\",\n        \"num_unique_values\": 8075,\n        \"samples\": [\n          \"\\\\tilde{L}_{0}^{k,k}(e^{x})=\\\\sum_{d=0}^{\\\\infty}\\\\frac{(kd)!}{(d!)^{k}}e^{dx},\\\\label{po}\",\n          \"\\\\partial_- A_+ -  \\\\partial_+ A_- =  2i \\\\vec{\\\\nabla} \\\\times {\\\\vec{A}} =  2i B =  i \\\\vec{\\\\nabla}^2 \\\\ln \\\\rho ,\\\\label{aap}\",\n          \"\\\\label{e107a}\\\\left.\\\\tilde{{\\\\cal R}}(g)\\\\right\\\\vert\\\\sb{\\\\phi(\\\\tau)=nx(\\\\tau)}={\\\\cal R}(g),\\\\quad\\\\left.\\\\tilde{K}\\\\right\\\\vert\\\\sb{\\\\phi(\\\\tau)=nx(\\\\tau)}=K,\\\\quad\\\\left.\\\\tilde{B}\\\\right\\\\vert\\\\sb{\\\\phi(\\\\tau)=nx(\\\\tau)}=B,\"\n        ],\n        \"semantic_type\": \"\",\n        \"description\": \"\"\n      }\n    }\n  ]\n}"
            }
          },
          "metadata": {},
          "execution_count": 15
        }
      ],
      "source": [
        "image_list = []\n",
        "descriptions = processing_data(descriptions, image_list)\n",
        "descriptions"
      ]
    },
    {
      "cell_type": "code",
      "execution_count": 16,
      "id": "4a84682b-7ad4-47ee-8997-6a89a83ed903",
      "metadata": {
        "id": "4a84682b-7ad4-47ee-8997-6a89a83ed903"
      },
      "outputs": [],
      "source": [
        "class ImagesDataset(Dataset):\n",
        "    def __init__(self, root, image_list, transform=None):\n",
        "        super().__init__()\n",
        "        self.root = root\n",
        "        self.image_list = image_list\n",
        "        self.transform = transform\n",
        "\n",
        "    def __len__(self):\n",
        "        return len(self.image_list)\n",
        "\n",
        "    def __getitem__(self, item):\n",
        "        image_path = os.path.join(self.root, self.image_list[item])\n",
        "        image = Image.open(image_path).convert('RGB')\n",
        "\n",
        "        if self.transform is not None:\n",
        "            image = self.transform(image)\n",
        "\n",
        "        return image"
      ]
    },
    {
      "cell_type": "code",
      "source": [
        "# Определяем устройство (CPU или GPU)\n",
        "device = torch.device(\"cuda\" if torch.cuda.is_available() else \"cpu\")\n",
        "\n",
        "# Загружаем предобученную модель MobileNetV2 и переводим её на устройство\n",
        "cnn_model = mobilenet_v2(weights=MobileNet_V2_Weights.IMAGENET1K_V1).eval().to(device)"
      ],
      "metadata": {
        "id": "tnneXtSOXIWK"
      },
      "id": "tnneXtSOXIWK",
      "execution_count": 37,
      "outputs": []
    },
    {
      "cell_type": "code",
      "execution_count": 38,
      "id": "3LUWjBUX3R4t",
      "metadata": {
        "id": "3LUWjBUX3R4t"
      },
      "outputs": [],
      "source": [
        "transform = T.Compose([\n",
        "    T.ToTensor(),\n",
        "    T.Resize(256),\n",
        "    T.CenterCrop(224),\n",
        "    T.Normalize(mean=[0.485, 0.456, 0.406], std=[0.229, 0.224, 0.225])\n",
        "])\n",
        "\n",
        "dataset = ImagesDataset(root='/content/formula_images', image_list=image_list, transform=transform)\n",
        "dataloader = DataLoader(dataset, num_workers=0, shuffle=False, batch_size=512, pin_memory=True)"
      ]
    },
    {
      "cell_type": "code",
      "source": [
        "# Освободить память\n",
        "gc.collect()\n",
        "torch.cuda.empty_cache()"
      ],
      "metadata": {
        "id": "0Edp9cCzVUU8"
      },
      "id": "0Edp9cCzVUU8",
      "execution_count": 39,
      "outputs": []
    },
    {
      "cell_type": "code",
      "source": [
        "# Initialize your list for image embeddings\n",
        "image_embeds = []\n",
        "images = torch.rand(8, 3, 32, 32)\n",
        "# Create the global average pooling layer\n",
        "avgpool = nn.AdaptiveAvgPool2d((1, 1))\n",
        "\n",
        "with torch.no_grad():\n",
        "    for images in tqdm(dataloader):  # Assuming 'dataloader' is defined\n",
        "        # Standard features extraction using the CNN model\n",
        "        features = cnn_model.features(images.to(device))  # Shape: (B, C, H, W)\n",
        "\n",
        "        # Apply the average pooling layer\n",
        "        pooled_features = avgpool(features)  # Shape: (B, C, 1, 1)\n",
        "\n",
        "        # Reshape to (B, C) before storing\n",
        "        pooled_features = pooled_features.view(pooled_features.size(0), -1)  # Shape: (B, C)\n",
        "\n",
        "        # Store the reshaped features\n",
        "        image_embeds.append(pooled_features.cpu())\n",
        "\n",
        "# Concatenate all embeddings into a single tensor; it should now have shape (total_samples, channels)\n",
        "image_embeds = torch.cat(image_embeds, dim=0)  # Shape: (256, 1280)\n",
        "\n",
        "# Verify the shape of the final tensor\n",
        "print(\"Final image_embeds shape:\", image_embeds.shape)"
      ],
      "metadata": {
        "id": "lP87KDU-UjNg",
        "colab": {
          "base_uri": "https://localhost:8080/"
        },
        "outputId": "c51cfb87-b9da-4137-8ad3-d7024856cf82"
      },
      "id": "lP87KDU-UjNg",
      "execution_count": 170,
      "outputs": [
        {
          "output_type": "stream",
          "name": "stderr",
          "text": [
            "  0%|          | 0/16 [00:00<?, ?it/s]/usr/local/lib/python3.11/dist-packages/PIL/Image.py:1045: UserWarning: Palette images with Transparency expressed in bytes should be converted to RGBA images\n",
            "  warnings.warn(\n",
            "100%|██████████| 16/16 [15:24<00:00, 57.75s/it]"
          ]
        },
        {
          "output_type": "stream",
          "name": "stdout",
          "text": [
            "Final image_embeds shape: torch.Size([8086, 1280])\n"
          ]
        },
        {
          "output_type": "stream",
          "name": "stderr",
          "text": [
            "\n"
          ]
        }
      ]
    },
    {
      "cell_type": "code",
      "source": [
        "# Освободить память\n",
        "gc.collect()\n",
        "torch.cuda.empty_cache()"
      ],
      "metadata": {
        "id": "aqwQvwsunTrQ"
      },
      "id": "aqwQvwsunTrQ",
      "execution_count": 171,
      "outputs": []
    },
    {
      "cell_type": "code",
      "source": [
        "train_images, test_images, train_embeds, test_embeds = \\\n",
        "    train_test_split(image_list, image_embeds, test_size=0.25, random_state=42)\n",
        "\n",
        "train_embeds.shape, test_embeds.shape"
      ],
      "metadata": {
        "id": "u8q6WYfXUbof",
        "colab": {
          "base_uri": "https://localhost:8080/"
        },
        "outputId": "e322f721-c3b0-4cd5-ff0d-b469f553e869"
      },
      "id": "u8q6WYfXUbof",
      "execution_count": 172,
      "outputs": [
        {
          "output_type": "execute_result",
          "data": {
            "text/plain": [
              "(torch.Size([6064, 1280]), torch.Size([2022, 1280]))"
            ]
          },
          "metadata": {},
          "execution_count": 172
        }
      ]
    },
    {
      "cell_type": "code",
      "source": [
        "train_descriptions = descriptions[descriptions.image_id.isin(train_images)]\n",
        "test_descriptions = descriptions[descriptions.image_id.isin(test_images)]\n",
        "\n",
        "train_descriptions.shape, test_descriptions.shape"
      ],
      "metadata": {
        "id": "FAuJjuQDUHPy",
        "colab": {
          "base_uri": "https://localhost:8080/"
        },
        "outputId": "ce853164-2012-4b22-d328-9e7e30fc2e4a"
      },
      "id": "FAuJjuQDUHPy",
      "execution_count": 157,
      "outputs": [
        {
          "output_type": "execute_result",
          "data": {
            "text/plain": [
              "((6064, 3), (2022, 3))"
            ]
          },
          "metadata": {},
          "execution_count": 157
        }
      ]
    },
    {
      "cell_type": "markdown",
      "source": [
        "# Токенизация формул"
      ],
      "metadata": {
        "id": "AdnVWILb8GeO"
      },
      "id": "AdnVWILb8GeO"
    },
    {
      "cell_type": "code",
      "source": [
        "# Создание токенизатора\n",
        "tokenizer = Tokenizer(oov_token='<unk>')  # oov_token для обработки неизвестных слов\n",
        "\n",
        "# Обучение токенизатора на тренировочных данных\n",
        "tokenizer.fit_on_texts(train_descriptions['description'])\n",
        "\n",
        "# Добавление специальных токенов\n",
        "special_tokens = {'<pad>': 0, '<bos>': len(tokenizer.word_index) + 1, '<eos>': len(tokenizer.word_index) + 2}\n",
        "tokenizer.word_index.update(special_tokens)\n",
        "\n",
        "# Преобразование описаний в токены\n",
        "train_descriptions['tokens'] = tokenizer.texts_to_sequences(train_descriptions['description'])\n",
        "test_descriptions['tokens'] = tokenizer.texts_to_sequences(test_descriptions['description'])\n",
        "\n",
        "# Получение индексов специальных токенов\n",
        "PAD_IDX = tokenizer.word_index['<pad>']  # Индекс для <pad>\n",
        "UNK_IDX = tokenizer.word_index['<unk>']  # Индекс для <unk>\n",
        "BOS_IDX = tokenizer.word_index['<bos>']  # Индекс для <bos>\n",
        "EOS_IDX = tokenizer.word_index['<eos>']  # Индекс для <eos>\n",
        "VOCAB_SIZE = len(tokenizer.word_index) + 1  # Размер словаря (плюс один для <pad>)\n",
        "\n",
        "# Вывод результатов\n",
        "print(\"Train Descriptions Tokens:\")\n",
        "print(train_descriptions)\n",
        "print(\"\\nTest Descriptions Tokens:\")\n",
        "print(test_descriptions)\n",
        "print(f\"\\nVocabulary Size: {VOCAB_SIZE}\")"
      ],
      "metadata": {
        "id": "xxgVH6rzcSdj",
        "colab": {
          "base_uri": "https://localhost:8080/"
        },
        "outputId": "ab95ffe7-22b5-46e4-eeaa-2d47213dea50"
      },
      "id": "xxgVH6rzcSdj",
      "execution_count": 173,
      "outputs": [
        {
          "output_type": "stream",
          "name": "stdout",
          "text": [
            "Train Descriptions Tokens:\n",
            "        id        image_id                                        description  \\\n",
            "1        1  66667cee5b.png  ds^{2} = (1 - {qcos\\theta\\over r})^{2\\over 1 +...   \n",
            "2        2  1cbb05a562.png  \\widetilde\\gamma_{\\rm hopf}\\simeq\\sum_{n>0}\\wi...   \n",
            "3        3  ed164cc822.png  ({\\cal L}_a g)_{ij} = 0, \\ \\ \\ \\ ({\\cal L}_a H...   \n",
            "4        4  e265f9dc6b.png  S_{stat} = 2\\pi \\sqrt{N_5^{(1)} N_5^{(2)} N_5^...   \n",
            "5        5  227301e73d.png  \\hat N_3 = \\sum\\sp f_{j=1}a_j\\sp {\\dagger} a_j...   \n",
            "...    ...             ...                                                ...   \n",
            "8080  8080  2f2fe07656.png  \\matrix{\\sigma_{+1}((\\phi,\\alpha),(\\psi,\\beta)...   \n",
            "8082  8082  1f02eed518.png  \\Pi^{0}_{c}  = \\frac{\\partial {\\cal{L}}}{\\part...   \n",
            "8083  8083  2d83b5cbed.png  \\delta _{i}=\\partial _{i}+w_{i}\\partial _{4}+n...   \n",
            "8084  8084  71bf566307.png  \\label{implusphi}\\lim_{x\\rightarrow +\\infty} \\...   \n",
            "8085  8085  3b3088dede.png  \\label{3.7} c_{\\mu_i} =\\frac{\\Gamma(\\mu_i)}{\\p...   \n",
            "\n",
            "                                                 tokens  \n",
            "1     [124, 2, 3, 1019, 48, 39, 18, 2, 39, 3, 21, 2,...  \n",
            "2     [126, 38, 55, 1021, 196, 56, 10, 5, 126, 24, 1...  \n",
            "3         [44, 31, 6, 24, 79, 5, 44, 31, 6, 43, 194, 5]  \n",
            "4     [30, 1022, 2, 35, 60, 10, 74, 3, 10, 74, 2, 10...  \n",
            "5     [51, 10, 26, 56, 227, 28, 23, 3, 6, 23, 227, 9...  \n",
            "...                                                 ...  \n",
            "8080  [219, 45, 3, 25, 21, 41, 47, 2, 118, 46, 30, 3...  \n",
            "8082  [35, 5, 36, 4, 20, 44, 31, 20, 20, 5, 6, 5, 36...  \n",
            "8083  [29, 7, 20, 7, 62, 7, 20, 37, 10, 7, 20, 74, 9...  \n",
            "8084  [9, 4295, 165, 8, 92, 68, 25, 7, 3, 10, 3, 29,...  \n",
            "8085  [9, 26, 120, 36, 11, 7, 4, 38, 11, 7, 35, 4, 1...  \n",
            "\n",
            "[6064 rows x 4 columns]\n",
            "\n",
            "Test Descriptions Tokens:\n",
            "        id        image_id                                        description  \\\n",
            "0        0  60ee748793.png  \\int_{-\\epsilon}^\\infty dl\\: {\\rm e}^{-l\\zeta}...   \n",
            "8        8  72f6bc494a.png  {\\phi''\\over A} +{1\\over A}\\left( -{1\\over 2}{...   \n",
            "14      14  4e9e19a3cf.png          L_{0} = \\Phi(w) = \\bigtriangleup\\Phi(w) ,   \n",
            "17      17  698111df57.png  \\label{g=u,x}g(z,\\bar z)=-\\frac{1}{2}\\left[x(z...   \n",
            "19      19  35a6b52146.png  s = {S \\over V} = {A_H \\over l_p^8 V } = {T^2 ...   \n",
            "...    ...             ...                                                ...   \n",
            "8073  8073  56daeecae7.png  \\hat{U}(n) = f(\\theta ,\\phi ) \\mbox{exp} \\ \\le...   \n",
            "8075  8075  6d7143f8f7.png  \\sigma^3v(x)=-\\mbox{sgn}(\\chi)v(x),\\qquad\\left...   \n",
            "8078  8078  2689d82125.png  H  = \\sum_{\\bf n} \\frac{1}{2}(1+\\sigma_{3}({\\b...   \n",
            "8079  8079  4d4dc7ac45.png  F^{\\mu,q}\\Psi(z_{1},\\ldots ,z_{m}),\\;F_{0}^{\\m...   \n",
            "8081  8081  11ab677532.png  \\label{E12}ds_4^2 =- e^{\\nu} dt^2 + e^{\\l}dr^2...   \n",
            "\n",
            "                                                 tokens  \n",
            "0     [46, 63, 68, 439, 55, 19, 31, 99, 46, 63, 68, ...  \n",
            "8     [1077, 39, 6, 3, 39, 6, 12, 3, 39, 2, 261, 39,...  \n",
            "14                         [31, 5, 25, 62, 656, 25, 62]  \n",
            "17    [9, 24, 52, 8, 24, 33, 42, 33, 4, 3, 2, 12, 8,...  \n",
            "19    [30, 30, 39, 49, 6, 43, 39, 31, 17, 93, 49, 22...  \n",
            "...                                                 ...  \n",
            "8073  [51, 52, 10, 28, 48, 25, 85, 88, 12, 4, 236, 4...  \n",
            "8075  [45, 2273, 8, 85, 634, 83, 49, 8, 78, 12, 4, 2...  \n",
            "8078  [43, 56, 61, 10, 4, 3, 2, 3, 45, 26, 61, 10, 8...  \n",
            "8079  [28, 11, 40, 41, 33, 3, 101, 33, 15, 28, 5, 11...  \n",
            "8081  [9, 1350, 124, 37, 2, 19, 32, 114, 2, 19, 31, ...  \n",
            "\n",
            "[2022 rows x 4 columns]\n",
            "\n",
            "Vocabulary Size: 4300\n"
          ]
        },
        {
          "output_type": "stream",
          "name": "stderr",
          "text": [
            "<ipython-input-173-53f66be00424>:15: SettingWithCopyWarning: \n",
            "A value is trying to be set on a copy of a slice from a DataFrame.\n",
            "Try using .loc[row_indexer,col_indexer] = value instead\n",
            "\n",
            "See the caveats in the documentation: https://pandas.pydata.org/pandas-docs/stable/user_guide/indexing.html#returning-a-view-versus-a-copy\n",
            "  train_descriptions['tokens'] = tokenizer.texts_to_sequences(train_descriptions['description'])\n",
            "<ipython-input-173-53f66be00424>:16: SettingWithCopyWarning: \n",
            "A value is trying to be set on a copy of a slice from a DataFrame.\n",
            "Try using .loc[row_indexer,col_indexer] = value instead\n",
            "\n",
            "See the caveats in the documentation: https://pandas.pydata.org/pandas-docs/stable/user_guide/indexing.html#returning-a-view-versus-a-copy\n",
            "  test_descriptions['tokens'] = tokenizer.texts_to_sequences(test_descriptions['description'])\n"
          ]
        }
      ]
    },
    {
      "cell_type": "code",
      "source": [
        "print('Train max length:', train_descriptions.tokens.apply(len).max())\n",
        "plt.hist(train_descriptions.tokens.apply(len), bins=40)\n",
        "MAX_LENGTH = 40\n",
        "plt.show()"
      ],
      "metadata": {
        "id": "69UpQRAfnfAW",
        "colab": {
          "base_uri": "https://localhost:8080/",
          "height": 447
        },
        "outputId": "08c9d9bf-96ee-46fb-851f-5eb781af92cb"
      },
      "id": "69UpQRAfnfAW",
      "execution_count": 181,
      "outputs": [
        {
          "output_type": "stream",
          "name": "stdout",
          "text": [
            "Train max length: 184\n"
          ]
        },
        {
          "output_type": "display_data",
          "data": {
            "text/plain": [
              "<Figure size 640x480 with 1 Axes>"
            ],
            "image/png": "[encoded data removed]"
          },
          "metadata": {}
        }
      ]
    },
    {
      "cell_type": "code",
      "source": [
        "train_descriptions"
      ],
      "metadata": {
        "id": "L5XA0d4PniVA",
        "colab": {
          "base_uri": "https://localhost:8080/",
          "height": 424
        },
        "outputId": "78ba018e-a6a8-45b2-a9f8-8ed6dab32cc4"
      },
      "id": "L5XA0d4PniVA",
      "execution_count": 182,
      "outputs": [
        {
          "output_type": "execute_result",
          "data": {
            "text/plain": [
              "        id        image_id                                        description  \\\n",
              "1        1  66667cee5b.png  ds^{2} = (1 - {qcos\\theta\\over r})^{2\\over 1 +...   \n",
              "2        2  1cbb05a562.png  \\widetilde\\gamma_{\\rm hopf}\\simeq\\sum_{n>0}\\wi...   \n",
              "3        3  ed164cc822.png  ({\\cal L}_a g)_{ij} = 0, \\ \\ \\ \\ ({\\cal L}_a H...   \n",
              "4        4  e265f9dc6b.png  S_{stat} = 2\\pi \\sqrt{N_5^{(1)} N_5^{(2)} N_5^...   \n",
              "5        5  227301e73d.png  \\hat N_3 = \\sum\\sp f_{j=1}a_j\\sp {\\dagger} a_j...   \n",
              "...    ...             ...                                                ...   \n",
              "8080  8080  2f2fe07656.png  \\matrix{\\sigma_{+1}((\\phi,\\alpha),(\\psi,\\beta)...   \n",
              "8082  8082  1f02eed518.png  \\Pi^{0}_{c}  = \\frac{\\partial {\\cal{L}}}{\\part...   \n",
              "8083  8083  2d83b5cbed.png  \\delta _{i}=\\partial _{i}+w_{i}\\partial _{4}+n...   \n",
              "8084  8084  71bf566307.png  \\label{implusphi}\\lim_{x\\rightarrow +\\infty} \\...   \n",
              "8085  8085  3b3088dede.png  \\label{3.7} c_{\\mu_i} =\\frac{\\Gamma(\\mu_i)}{\\p...   \n",
              "\n",
              "                                                 tokens  \n",
              "1     [124, 2, 3, 1019, 48, 39, 18, 2, 39, 3, 21, 2,...  \n",
              "2     [126, 38, 55, 1021, 196, 56, 10, 5, 126, 24, 1...  \n",
              "3         [44, 31, 6, 24, 79, 5, 44, 31, 6, 43, 194, 5]  \n",
              "4     [30, 1022, 2, 35, 60, 10, 74, 3, 10, 74, 2, 10...  \n",
              "5     [51, 10, 26, 56, 227, 28, 23, 3, 6, 23, 227, 9...  \n",
              "...                                                 ...  \n",
              "8080  [219, 45, 3, 25, 21, 41, 47, 2, 118, 46, 30, 3...  \n",
              "8082  [35, 5, 36, 4, 20, 44, 31, 20, 20, 5, 6, 5, 36...  \n",
              "8083  [29, 7, 20, 7, 62, 7, 20, 37, 10, 7, 20, 74, 9...  \n",
              "8084  [9, 4295, 165, 8, 92, 68, 25, 7, 3, 10, 3, 29,...  \n",
              "8085  [9, 26, 120, 36, 11, 7, 4, 38, 11, 7, 35, 4, 1...  \n",
              "\n",
              "[6064 rows x 4 columns]"
            ],
            "text/html": [
              "\n",
              "  <div id=\"df-b6c2c793-e007-4d61-945f-fbaf6a3e8e30\" class=\"colab-df-container\">\n",
              "    <div>\n",
              "<style scoped>\n",
              "    .dataframe tbody tr th:only-of-type {\n",
              "        vertical-align: middle;\n",
              "    }\n",
              "\n",
              "    .dataframe tbody tr th {\n",
              "        vertical-align: top;\n",
              "    }\n",
              "\n",
              "    .dataframe thead th {\n",
              "        text-align: right;\n",
              "    }\n",
              "</style>\n",
              "<table border=\"1\" class=\"dataframe\">\n",
              "  <thead>\n",
              "    <tr style=\"text-align: right;\">\n",
              "      <th></th>\n",
              "      <th>id</th>\n",
              "      <th>image_id</th>\n",
              "      <th>description</th>\n",
              "      <th>tokens</th>\n",
              "    </tr>\n",
              "  </thead>\n",
              "  <tbody>\n",
              "    <tr>\n",
              "      <th>1</th>\n",
              "      <td>1</td>\n",
              "      <td>66667cee5b.png</td>\n",
              "      <td>ds^{2} = (1 - {qcos\\theta\\over r})^{2\\over 1 +...</td>\n",
              "      <td>[124, 2, 3, 1019, 48, 39, 18, 2, 39, 3, 21, 2,...</td>\n",
              "    </tr>\n",
              "    <tr>\n",
              "      <th>2</th>\n",
              "      <td>2</td>\n",
              "      <td>1cbb05a562.png</td>\n",
              "      <td>\\widetilde\\gamma_{\\rm hopf}\\simeq\\sum_{n&gt;0}\\wi...</td>\n",
              "      <td>[126, 38, 55, 1021, 196, 56, 10, 5, 126, 24, 1...</td>\n",
              "    </tr>\n",
              "    <tr>\n",
              "      <th>3</th>\n",
              "      <td>3</td>\n",
              "      <td>ed164cc822.png</td>\n",
              "      <td>({\\cal L}_a g)_{ij} = 0, \\ \\ \\ \\ ({\\cal L}_a H...</td>\n",
              "      <td>[44, 31, 6, 24, 79, 5, 44, 31, 6, 43, 194, 5]</td>\n",
              "    </tr>\n",
              "    <tr>\n",
              "      <th>4</th>\n",
              "      <td>4</td>\n",
              "      <td>e265f9dc6b.png</td>\n",
              "      <td>S_{stat} = 2\\pi \\sqrt{N_5^{(1)} N_5^{(2)} N_5^...</td>\n",
              "      <td>[30, 1022, 2, 35, 60, 10, 74, 3, 10, 74, 2, 10...</td>\n",
              "    </tr>\n",
              "    <tr>\n",
              "      <th>5</th>\n",
              "      <td>5</td>\n",
              "      <td>227301e73d.png</td>\n",
              "      <td>\\hat N_3 = \\sum\\sp f_{j=1}a_j\\sp {\\dagger} a_j...</td>\n",
              "      <td>[51, 10, 26, 56, 227, 28, 23, 3, 6, 23, 227, 9...</td>\n",
              "    </tr>\n",
              "    <tr>\n",
              "      <th>...</th>\n",
              "      <td>...</td>\n",
              "      <td>...</td>\n",
              "      <td>...</td>\n",
              "      <td>...</td>\n",
              "    </tr>\n",
              "    <tr>\n",
              "      <th>8080</th>\n",
              "      <td>8080</td>\n",
              "      <td>2f2fe07656.png</td>\n",
              "      <td>\\matrix{\\sigma_{+1}((\\phi,\\alpha),(\\psi,\\beta)...</td>\n",
              "      <td>[219, 45, 3, 25, 21, 41, 47, 2, 118, 46, 30, 3...</td>\n",
              "    </tr>\n",
              "    <tr>\n",
              "      <th>8082</th>\n",
              "      <td>8082</td>\n",
              "      <td>1f02eed518.png</td>\n",
              "      <td>\\Pi^{0}_{c}  = \\frac{\\partial {\\cal{L}}}{\\part...</td>\n",
              "      <td>[35, 5, 36, 4, 20, 44, 31, 20, 20, 5, 6, 5, 36...</td>\n",
              "    </tr>\n",
              "    <tr>\n",
              "      <th>8083</th>\n",
              "      <td>8083</td>\n",
              "      <td>2d83b5cbed.png</td>\n",
              "      <td>\\delta _{i}=\\partial _{i}+w_{i}\\partial _{4}+n...</td>\n",
              "      <td>[29, 7, 20, 7, 62, 7, 20, 37, 10, 7, 20, 74, 9...</td>\n",
              "    </tr>\n",
              "    <tr>\n",
              "      <th>8084</th>\n",
              "      <td>8084</td>\n",
              "      <td>71bf566307.png</td>\n",
              "      <td>\\label{implusphi}\\lim_{x\\rightarrow +\\infty} \\...</td>\n",
              "      <td>[9, 4295, 165, 8, 92, 68, 25, 7, 3, 10, 3, 29,...</td>\n",
              "    </tr>\n",
              "    <tr>\n",
              "      <th>8085</th>\n",
              "      <td>8085</td>\n",
              "      <td>3b3088dede.png</td>\n",
              "      <td>\\label{3.7} c_{\\mu_i} =\\frac{\\Gamma(\\mu_i)}{\\p...</td>\n",
              "      <td>[9, 26, 120, 36, 11, 7, 4, 38, 11, 7, 35, 4, 1...</td>\n",
              "    </tr>\n",
              "  </tbody>\n",
              "</table>\n",
              "<p>6064 rows × 4 columns</p>\n",
              "</div>\n",
              "    <div class=\"colab-df-buttons\">\n",
              "\n",
              "  <div class=\"colab-df-container\">\n",
              "    <button class=\"colab-df-convert\" onclick=\"convertToInteractive('df-b6c2c793-e007-4d61-945f-fbaf6a3e8e30')\"\n",
              "            title=\"Convert this dataframe to an interactive table.\"\n",
              "            style=\"display:none;\">\n",
              "\n",
              "  <svg xmlns=\"http://www.w3.org/2000/svg\" height=\"24px\" viewBox=\"0 -960 960 960\">\n",
              "    <path d=\"M120-120v-720h720v720H120Zm60-500h600v-160H180v160Zm220 220h160v-160H400v160Zm0 220h160v-160H400v160ZM180-400h160v-160H180v160Zm440 0h160v-160H620v160ZM180-180h160v-160H180v160Zm440 0h160v-160H620v160Z\"/>\n",
              "  </svg>\n",
              "    </button>\n",
              "\n",
              "  <style>\n",
              "    .colab-df-container {\n",
              "      display:flex;\n",
              "      gap: 12px;\n",
              "    }\n",
              "\n",
              "    .colab-df-convert {\n",
              "      background-color: #E8F0FE;\n",
              "      border: none;\n",
              "      border-radius: 50%;\n",
              "      cursor: pointer;\n",
              "      display: none;\n",
              "      fill: #1967D2;\n",
              "      height: 32px;\n",
              "      padding: 0 0 0 0;\n",
              "      width: 32px;\n",
              "    }\n",
              "\n",
              "    .colab-df-convert:hover {\n",
              "      background-color: #E2EBFA;\n",
              "      box-shadow: 0px 1px 2px rgba(60, 64, 67, 0.3), 0px 1px 3px 1px rgba(60, 64, 67, 0.15);\n",
              "      fill: #174EA6;\n",
              "    }\n",
              "\n",
              "    .colab-df-buttons div {\n",
              "      margin-bottom: 4px;\n",
              "    }\n",
              "\n",
              "    [theme=dark] .colab-df-convert {\n",
              "      background-color: #3B4455;\n",
              "      fill: #D2E3FC;\n",
              "    }\n",
              "\n",
              "    [theme=dark] .colab-df-convert:hover {\n",
              "      background-color: #434B5C;\n",
              "      box-shadow: 0px 1px 3px 1px rgba(0, 0, 0, 0.15);\n",
              "      filter: drop-shadow(0px 1px 2px rgba(0, 0, 0, 0.3));\n",
              "      fill: #FFFFFF;\n",
              "    }\n",
              "  </style>\n",
              "\n",
              "    <script>\n",
              "      const buttonEl =\n",
              "        document.querySelector('#df-b6c2c793-e007-4d61-945f-fbaf6a3e8e30 button.colab-df-convert');\n",
              "      buttonEl.style.display =\n",
              "        google.colab.kernel.accessAllowed ? 'block' : 'none';\n",
              "\n",
              "      async function convertToInteractive(key) {\n",
              "        const element = document.querySelector('#df-b6c2c793-e007-4d61-945f-fbaf6a3e8e30');\n",
              "        const dataTable =\n",
              "          await google.colab.kernel.invokeFunction('convertToInteractive',\n",
              "                                                    [key], {});\n",
              "        if (!dataTable) return;\n",
              "\n",
              "        const docLinkHtml = 'Like what you see? Visit the ' +\n",
              "          '<a target=\"_blank\" href=https://colab.research.google.com/notebooks/data_table.ipynb>data table notebook</a>'\n",
              "          + ' to learn more about interactive tables.';\n",
              "        element.innerHTML = '';\n",
              "        dataTable['output_type'] = 'display_data';\n",
              "        await google.colab.output.renderOutput(dataTable, element);\n",
              "        const docLink = document.createElement('div');\n",
              "        docLink.innerHTML = docLinkHtml;\n",
              "        element.appendChild(docLink);\n",
              "      }\n",
              "    </script>\n",
              "  </div>\n",
              "\n",
              "\n",
              "<div id=\"df-7767980b-d749-40d7-be49-27333156b605\">\n",
              "  <button class=\"colab-df-quickchart\" onclick=\"quickchart('df-7767980b-d749-40d7-be49-27333156b605')\"\n",
              "            title=\"Suggest charts\"\n",
              "            style=\"display:none;\">\n",
              "\n",
              "<svg xmlns=\"http://www.w3.org/2000/svg\" height=\"24px\"viewBox=\"0 0 24 24\"\n",
              "     width=\"24px\">\n",
              "    <g>\n",
              "        <path d=\"M19 3H5c-1.1 0-2 .9-2 2v14c0 1.1.9 2 2 2h14c1.1 0 2-.9 2-2V5c0-1.1-.9-2-2-2zM9 17H7v-7h2v7zm4 0h-2V7h2v10zm4 0h-2v-4h2v4z\"/>\n",
              "    </g>\n",
              "</svg>\n",
              "  </button>\n",
              "\n",
              "<style>\n",
              "  .colab-df-quickchart {\n",
              "      --bg-color: #E8F0FE;\n",
              "      --fill-color: #1967D2;\n",
              "      --hover-bg-color: #E2EBFA;\n",
              "      --hover-fill-color: #174EA6;\n",
              "      --disabled-fill-color: #AAA;\n",
              "      --disabled-bg-color: #DDD;\n",
              "  }\n",
              "\n",
              "  [theme=dark] .colab-df-quickchart {\n",
              "      --bg-color: #3B4455;\n",
              "      --fill-color: #D2E3FC;\n",
              "      --hover-bg-color: #434B5C;\n",
              "      --hover-fill-color: #FFFFFF;\n",
              "      --disabled-bg-color: #3B4455;\n",
              "      --disabled-fill-color: #666;\n",
              "  }\n",
              "\n",
              "  .colab-df-quickchart {\n",
              "    background-color: var(--bg-color);\n",
              "    border: none;\n",
              "    border-radius: 50%;\n",
              "    cursor: pointer;\n",
              "    display: none;\n",
              "    fill: var(--fill-color);\n",
              "    height: 32px;\n",
              "    padding: 0;\n",
              "    width: 32px;\n",
              "  }\n",
              "\n",
              "  .colab-df-quickchart:hover {\n",
              "    background-color: var(--hover-bg-color);\n",
              "    box-shadow: 0 1px 2px rgba(60, 64, 67, 0.3), 0 1px 3px 1px rgba(60, 64, 67, 0.15);\n",
              "    fill: var(--button-hover-fill-color);\n",
              "  }\n",
              "\n",
              "  .colab-df-quickchart-complete:disabled,\n",
              "  .colab-df-quickchart-complete:disabled:hover {\n",
              "    background-color: var(--disabled-bg-color);\n",
              "    fill: var(--disabled-fill-color);\n",
              "    box-shadow: none;\n",
              "  }\n",
              "\n",
              "  .colab-df-spinner {\n",
              "    border: 2px solid var(--fill-color);\n",
              "    border-color: transparent;\n",
              "    border-bottom-color: var(--fill-color);\n",
              "    animation:\n",
              "      spin 1s steps(1) infinite;\n",
              "  }\n",
              "\n",
              "  @keyframes spin {\n",
              "    0% {\n",
              "      border-color: transparent;\n",
              "      border-bottom-color: var(--fill-color);\n",
              "      border-left-color: var(--fill-color);\n",
              "    }\n",
              "    20% {\n",
              "      border-color: transparent;\n",
              "      border-left-color: var(--fill-color);\n",
              "      border-top-color: var(--fill-color);\n",
              "    }\n",
              "    30% {\n",
              "      border-color: transparent;\n",
              "      border-left-color: var(--fill-color);\n",
              "      border-top-color: var(--fill-color);\n",
              "      border-right-color: var(--fill-color);\n",
              "    }\n",
              "    40% {\n",
              "      border-color: transparent;\n",
              "      border-right-color: var(--fill-color);\n",
              "      border-top-color: var(--fill-color);\n",
              "    }\n",
              "    60% {\n",
              "      border-color: transparent;\n",
              "      border-right-color: var(--fill-color);\n",
              "    }\n",
              "    80% {\n",
              "      border-color: transparent;\n",
              "      border-right-color: var(--fill-color);\n",
              "      border-bottom-color: var(--fill-color);\n",
              "    }\n",
              "    90% {\n",
              "      border-color: transparent;\n",
              "      border-bottom-color: var(--fill-color);\n",
              "    }\n",
              "  }\n",
              "</style>\n",
              "\n",
              "  <script>\n",
              "    async function quickchart(key) {\n",
              "      const quickchartButtonEl =\n",
              "        document.querySelector('#' + key + ' button');\n",
              "      quickchartButtonEl.disabled = true;  // To prevent multiple clicks.\n",
              "      quickchartButtonEl.classList.add('colab-df-spinner');\n",
              "      try {\n",
              "        const charts = await google.colab.kernel.invokeFunction(\n",
              "            'suggestCharts', [key], {});\n",
              "      } catch (error) {\n",
              "        console.error('Error during call to suggestCharts:', error);\n",
              "      }\n",
              "      quickchartButtonEl.classList.remove('colab-df-spinner');\n",
              "      quickchartButtonEl.classList.add('colab-df-quickchart-complete');\n",
              "    }\n",
              "    (() => {\n",
              "      let quickchartButtonEl =\n",
              "        document.querySelector('#df-7767980b-d749-40d7-be49-27333156b605 button');\n",
              "      quickchartButtonEl.style.display =\n",
              "        google.colab.kernel.accessAllowed ? 'block' : 'none';\n",
              "    })();\n",
              "  </script>\n",
              "</div>\n",
              "    </div>\n",
              "  </div>\n"
            ],
            "application/vnd.google.colaboratory.intrinsic+json": {
              "type": "dataframe",
              "variable_name": "train_descriptions",
              "summary": "{\n  \"name\": \"train_descriptions\",\n  \"rows\": 6064,\n  \"fields\": [\n    {\n      \"column\": \"id\",\n      \"properties\": {\n        \"dtype\": \"number\",\n        \"std\": 2330,\n        \"min\": 1,\n        \"max\": 8085,\n        \"num_unique_values\": 6064,\n        \"samples\": [\n          3681,\n          5006,\n          2218\n        ],\n        \"semantic_type\": \"\",\n        \"description\": \"\"\n      }\n    },\n    {\n      \"column\": \"image_id\",\n      \"properties\": {\n        \"dtype\": \"string\",\n        \"num_unique_values\": 6064,\n        \"samples\": [\n          \"386bf513d4.png\",\n          \"7b6c1a3865.png\",\n          \"7a46d4707e.png\"\n        ],\n        \"semantic_type\": \"\",\n        \"description\": \"\"\n      }\n    },\n    {\n      \"column\": \"description\",\n      \"properties\": {\n        \"dtype\": \"string\",\n        \"num_unique_values\": 6057,\n        \"samples\": [\n          \"\\\\frac{\\\\partial^2 V}{\\\\partial q_i^2}=-\\\\frac{\\\\tilde{g}^2}{2 \\\\tilde{N}_c} \\\\sum_{k \\\\neq i} (q_k^2-\\\\bar{q}_k^2)-m_{q_1}^2.\",\n          \"{1\\\\over 2} \\\\left( a^\\\\dagger - 2g q^2 \\\\right) a \\\\Phi_{N+1}^{(-)} = E_{N+1}^{(-)} \\\\Phi_{N+1}^{(-)}. \\\\label{eigphi}\",\n          \"\\\\label{2dop}\\\\Delta_{2} = - \\\\nabla^2 + {d-2 \\\\over 4(d-1)}R\"\n        ],\n        \"semantic_type\": \"\",\n        \"description\": \"\"\n      }\n    },\n    {\n      \"column\": \"tokens\",\n      \"properties\": {\n        \"dtype\": \"object\",\n        \"semantic_type\": \"\",\n        \"description\": \"\"\n      }\n    }\n  ]\n}"
            }
          },
          "metadata": {},
          "execution_count": 182
        }
      ]
    },
    {
      "cell_type": "markdown",
      "source": [
        "# Модель"
      ],
      "metadata": {
        "id": "gihBUG8Y8VMd"
      },
      "id": "gihBUG8Y8VMd"
    },
    {
      "cell_type": "code",
      "source": [
        "class DescriptionsDataset(Dataset):\n",
        "    def __init__(self, tokens, embeds, tokenizer):\n",
        "        super().__init__()\n",
        "        self.tokens = tokens  # Expecting a DataFrame\n",
        "        self.embeds = embeds  # Expecting a tensor or array-like for image embeddings\n",
        "        self.tokenizer = tokenizer\n",
        "        self.specials = ['<pad>', '<bos>', '<eos>', '<unk>']\n",
        "        self.PAD_IDX = 0  # Index for <pad>\n",
        "        self.UNK_IDX = tokenizer.word_index['<unk>']  # Index for <unk>\n",
        "        self.MAX_LENGTH = 50  # Set the maximum sequence length\n",
        "\n",
        "    def __len__(self):\n",
        "        return len(self.tokens)\n",
        "\n",
        "    def tokens_to_idx(self, tokens):\n",
        "        return [self.tokenizer.word_index.get(token, self.UNK_IDX) for token in tokens]\n",
        "\n",
        "    def encode(self, tokens):\n",
        "        tokens = ['<bos>'] + tokens + ['<eos>']\n",
        "        return self.tokens_to_idx(tokens)\n",
        "\n",
        "    def decode(self, idx):\n",
        "        tokens = [word for index in idx for word, word_idx in self.tokenizer.word_index.items() if word_idx == index]\n",
        "        return ' '.join(token for token in tokens if token not in self.specials)\n",
        "\n",
        "    def __getitem__(self, item):\n",
        "        # Ensure self.tokens is valid and item is indices correctly\n",
        "        tokens = self.tokens.iloc[item]['tokens']\n",
        "\n",
        "        # Check if tokens is a list or needs to be converted\n",
        "        if isinstance(tokens, (list, pd.Series)):  # Check if it's a list\n",
        "            encoded = self.encode(tokens)[:self.MAX_LENGTH + 2]\n",
        "        else:\n",
        "            raise ValueError(f\"Expected tokens to be list-like or Series, got {type(tokens)}\")\n",
        "\n",
        "        padded = torch.full((self.MAX_LENGTH + 2,), self.PAD_IDX, dtype=torch.int64)\n",
        "        padded[:len(encoded)] = torch.tensor(encoded, dtype=torch.int64)  # Ensure tensors match types.\n",
        "\n",
        "        # Extract image_id and ensure it's used properly\n",
        "        image_id = self.tokens.iloc[item]['id']  # Assuming 'image_id' is in the DataFrame\n",
        "        embedded_image = self.embeds[image_id]  # Make sure self.embeds is indexed correctly\n",
        "\n",
        "        return padded, len(encoded), embedded_image"
      ],
      "metadata": {
        "id": "1zKrio-b023W"
      },
      "id": "1zKrio-b023W",
      "execution_count": 183,
      "outputs": []
    },
    {
      "cell_type": "code",
      "source": [
        "train_set = DescriptionsDataset(train_descriptions, image_embeds, tokenizer)\n",
        "test_set = DescriptionsDataset(test_descriptions, image_embeds, tokenizer)\n",
        "\n",
        "train_loader = DataLoader(train_set, batch_size=256, shuffle=False, num_workers=0, pin_memory=True)\n",
        "test_loader = DataLoader(test_set, batch_size=256, shuffle=False, num_workers=0, pin_memory=True)\n",
        "embeds_loader = DataLoader(test_embeds, batch_size=256, shuffle=False, num_workers=0, pin_memory=True)"
      ],
      "metadata": {
        "id": "iOI1iZDkse8M"
      },
      "id": "iOI1iZDkse8M",
      "execution_count": 184,
      "outputs": []
    },
    {
      "cell_type": "code",
      "source": [
        "descriptions_list = []\n",
        "\n",
        "for image in tqdm(test_images):\n",
        "    data = test_descriptions[test_descriptions.image_id == image]\n",
        "    descriptions_list += [data.description.str.lower().tolist()]"
      ],
      "metadata": {
        "id": "cZAWI1gY9J0B",
        "colab": {
          "base_uri": "https://localhost:8080/"
        },
        "outputId": "4cb00711-3aa6-4b2e-be35-677a09fb89c2"
      },
      "id": "cZAWI1gY9J0B",
      "execution_count": 185,
      "outputs": [
        {
          "output_type": "stream",
          "name": "stderr",
          "text": [
            "100%|██████████| 2022/2022 [00:01<00:00, 1447.35it/s]\n"
          ]
        }
      ]
    },
    {
      "cell_type": "code",
      "source": [
        "class DescriptionRNN(nn.Module):\n",
        "    def __init__(self, image_embed_dim, tokenizer, embed_dim=256, hidden_dim=256, lstm_layers=1, dropout=0.1):\n",
        "        super().__init__()\n",
        "        self.lstm_layers = lstm_layers\n",
        "        self.hidden_dim = hidden_dim\n",
        "        self.tokenizer = tokenizer  # Store the tokenizer as an instance variable\n",
        "        self.MAX_LENGTH = 50\n",
        "\n",
        "        self.image_embed_to_h0 = nn.Sequential(\n",
        "            nn.Linear(image_embed_dim, lstm_layers * hidden_dim),\n",
        "            nn.LeakyReLU(0.1),\n",
        "        )\n",
        "        self.image_embed_to_c0 = nn.Sequential(\n",
        "            nn.Linear(image_embed_dim, lstm_layers * hidden_dim),\n",
        "            nn.LeakyReLU(0.1),\n",
        "        )\n",
        "\n",
        "        self.embedding = nn.Embedding(num_embeddings=VOCAB_SIZE, embedding_dim=embed_dim, padding_idx=PAD_IDX)\n",
        "        self.lstm = nn.LSTM(input_size=embed_dim, hidden_size=hidden_dim, num_layers=lstm_layers, batch_first=True)\n",
        "        self.linear = nn.Sequential(\n",
        "            nn.Dropout(dropout),\n",
        "            nn.Linear(hidden_dim, VOCAB_SIZE)\n",
        "        )\n",
        "\n",
        "    def forward(self, tokens, lengths, image_embeds):\n",
        "      B = image_embeds.shape[0]\n",
        "\n",
        "      # Reshape image_embeds\n",
        "      image_embeds = image_embeds.view(B, -1)  # Ensuring it becomes (B, 1280)\n",
        "\n",
        "      h0 = self.image_embed_to_h0(image_embeds).view(self.lstm_layers, B, self.hidden_dim)\n",
        "      c0 = self.image_embed_to_c0(image_embeds).view(self.lstm_layers, B, self.hidden_dim)\n",
        "\n",
        "      # Get token embeddings\n",
        "      embeds = self.embedding(tokens)\n",
        "\n",
        "      # Move lengths to CPU\n",
        "      lengths = lengths.cpu()\n",
        "\n",
        "      packed_embeds = pack_padded_sequence(embeds, lengths, batch_first=True, enforce_sorted=False)\n",
        "      outputs, (h, c) = self.lstm(packed_embeds, (h0, c0))\n",
        "      outputs, lengths = pad_packed_sequence(outputs, batch_first=True)\n",
        "\n",
        "      # Ensure correct shape before passing to linear layer\n",
        "      outputs_reshaped = outputs.contiguous().view(-1, self.hidden_dim)  # (B * L, hidden_dim)\n",
        "\n",
        "      logits = self.linear(outputs_reshaped)  # Ensure this is fine with dimensions\n",
        "\n",
        "      # Final reshaping to (B, L, vocab_size)\n",
        "      logits = logits.view(B, -1, self.linear[1].weight.size(0))\n",
        "\n",
        "      return logits\n",
        "\n",
        "    @torch.no_grad()\n",
        "    def inference(self, image_embeds):\n",
        "        self.eval()\n",
        "        B = image_embeds.shape[0]\n",
        "        h = self.image_embed_to_h0(image_embeds).reshape(B, self.lstm_layers, self.hidden_dim).transpose(0, 1)\n",
        "        c = self.image_embed_to_c0(image_embeds).reshape(B, self.lstm_layers, self.hidden_dim).transpose(0, 1)\n",
        "        h, c = h.contiguous(), c.contiguous()\n",
        "\n",
        "        # Initialize tokens with <bos>\n",
        "        tokens = torch.full((B, 1), self.tokenizer.word_index['<bos>'], device=image_embeds.device)\n",
        "\n",
        "        # Loop until we reach maximum length or encounter <eos> token\n",
        "        while tokens.shape[1] < self.MAX_LENGTH:\n",
        "            if ((tokens == self.tokenizer.word_index['<eos>']).sum(1) > 0).all():\n",
        "                break\n",
        "\n",
        "            # Process newly obtained token\n",
        "            embeds = self.embedding(tokens)  # Use the current tokens for embedding\n",
        "            output, (h, c) = self.lstm(embeds, (h, c))\n",
        "            logits = self.linear(output)\n",
        "\n",
        "            # Get new tokens from logits\n",
        "            new_tokens = logits[:, -1, :].argmax(dim=-1, keepdim=True)  # Get the last token output\n",
        "            tokens = torch.cat([tokens, new_tokens], dim=1)\n",
        "\n",
        "        return tokens\n",
        ""
      ],
      "metadata": {
        "id": "X8I3BZaM3n1M"
      },
      "id": "X8I3BZaM3n1M",
      "execution_count": 201,
      "outputs": []
    },
    {
      "cell_type": "code",
      "source": [
        "print(f\"tokens shape: {tokens.shape}\")\n",
        "print(f\"lengths shape: {lengths.shape}\")\n",
        "print(f\"embeds shape: {embeds.shape}\")"
      ],
      "metadata": {
        "colab": {
          "base_uri": "https://localhost:8080/"
        },
        "id": "-RX16u0WSDOk",
        "outputId": "04165cfd-b1ab-436f-8be6-4dc7855ab1f1"
      },
      "id": "-RX16u0WSDOk",
      "execution_count": 191,
      "outputs": [
        {
          "output_type": "stream",
          "name": "stdout",
          "text": [
            "tokens shape: torch.Size([256, 52])\n",
            "lengths shape: torch.Size([256])\n",
            "embeds shape: torch.Size([256, 1280, 1, 1])\n"
          ]
        }
      ]
    },
    {
      "cell_type": "markdown",
      "source": [
        "# Обучение"
      ],
      "metadata": {
        "id": "yaPkxOSJ8aHz"
      },
      "id": "yaPkxOSJ8aHz"
    },
    {
      "cell_type": "code",
      "source": [
        "BLEU_FREQ = 5\n",
        "\n",
        "def plot_losses(train_losses, test_losses, test_blues):\n",
        "    clear_output()\n",
        "    fig, axs = plt.subplots(1, 2, figsize=(13, 4))\n",
        "    axs[0].plot(range(1, len(train_losses) + 1), train_losses, label='train', color='deepskyblue', linewidth=2)\n",
        "    axs[0].plot(range(1, len(test_losses) + 1), test_losses, label='test', color='springgreen', linewidth=2)\n",
        "    axs[0].set_ylabel('loss')\n",
        "\n",
        "    axs[1].plot(BLEU_FREQ * np.arange(1, len(test_blues) + 1), test_blues, label='test',\n",
        "                color='springgreen', linewidth=2)\n",
        "    axs[1].set_ylabel('BLEU')\n",
        "\n",
        "    for ax in axs:\n",
        "        ax.set_xlabel('epoch')\n",
        "        ax.legend()\n",
        "\n",
        "    plt.show()"
      ],
      "metadata": {
        "id": "AQ41HkbZdarA"
      },
      "id": "AQ41HkbZdarA",
      "execution_count": 207,
      "outputs": []
    },
    {
      "cell_type": "code",
      "source": [
        "def training_epoch(model, optimizer, criterion, train_loader, tqdm_desc):\n",
        "    train_loss = 0.0\n",
        "    model.train()\n",
        "    for tokens, lengths, embeds in tqdm(train_loader, desc=tqdm_desc):\n",
        "        embeds = embeds.to(device)\n",
        "        tokens = tokens[:, :lengths.max()].to(device)\n",
        "\n",
        "        optimizer.zero_grad()\n",
        "        logits = model(tokens[:, :-1], lengths - 1, embeds)\n",
        "        loss = criterion(logits.transpose(1, 2), tokens[:, 1:])\n",
        "        loss.backward()\n",
        "        optimizer.step()\n",
        "\n",
        "        train_loss += loss.item() * embeds.shape[0]\n",
        "\n",
        "    train_loss /= len(train_loader.dataset)\n",
        "    return train_loss\n",
        "\n",
        "\n",
        "@torch.no_grad()\n",
        "def validation_epoch(model, criterion, valid_loader, tqdm_desc):\n",
        "    valid_loss = 0.0\n",
        "    model.eval()\n",
        "    for tokens, lengths, embeds in tqdm(valid_loader, desc=tqdm_desc):\n",
        "        embeds = embeds.to(device)\n",
        "        tokens = tokens[:, :lengths.max()].to(device)\n",
        "\n",
        "        logits = model(tokens[:, :-1], lengths - 1, embeds)\n",
        "        loss = criterion(logits.transpose(1, 2), tokens[:, 1:])\n",
        "\n",
        "        valid_loss += loss.item() * embeds.shape[0]\n",
        "\n",
        "    valid_loss /= len(valid_loader.dataset)\n",
        "    return valid_loss\n",
        "\n",
        "\n",
        "def evaluate_bleu(model, embeds_loader, descriptions):\n",
        "    bleu = BLEUScore()\n",
        "    predictions = []\n",
        "    model.eval()\n",
        "    for embeds in tqdm(embeds_loader, desc='Evaluating BLEU'):\n",
        "        tokens = model.inference(embeds.to(device)).cpu()\n",
        "        for token_list in tokens:\n",
        "            predictions += [train_set.decode(token_list)]\n",
        "\n",
        "    return bleu(predictions, descriptions).item()\n",
        "\n",
        "\n",
        "def train(model, optimizer, scheduler, criterion, train_loader, valid_loader,\n",
        "          embeds_loader, descriptions_list, num_epochs):\n",
        "    train_losses, valid_losses, valid_blues = [], [], []\n",
        "\n",
        "    for epoch in range(1, num_epochs + 1):\n",
        "        train_loss = training_epoch(\n",
        "            model, optimizer, criterion, train_loader,\n",
        "            tqdm_desc=f'Training {epoch}/{num_epochs}'\n",
        "        )\n",
        "        valid_loss = validation_epoch(\n",
        "            model, criterion, valid_loader,\n",
        "            tqdm_desc=f'Validating {epoch}/{num_epochs}'\n",
        "        )\n",
        "\n",
        "        if epoch % BLEU_FREQ == 0:\n",
        "            valid_bleu = evaluate_bleu(model, embeds_loader, descriptions_list)\n",
        "            valid_blues += [valid_bleu]\n",
        "\n",
        "        if scheduler is not None:\n",
        "            scheduler.step()\n",
        "\n",
        "        train_losses += [train_loss]\n",
        "        valid_losses += [valid_loss]\n",
        "        plot_losses(train_losses, valid_losses, valid_blues)"
      ],
      "metadata": {
        "id": "DxuQJ_DUde6P"
      },
      "id": "DxuQJ_DUde6P",
      "execution_count": 208,
      "outputs": []
    },
    {
      "cell_type": "code",
      "source": [
        "def training_epoch(model, optimizer, criterion, train_loader, tqdm_desc, accumulation_steps=4):\n",
        "    train_loss = 0.0\n",
        "    model.train()\n",
        "    optimizer.zero_grad()  # Сброс градиентов перед началом эпохи\n",
        "\n",
        "    for i, (tokens, lengths, embeds) in enumerate(tqdm(train_loader, desc=tqdm_desc)):\n",
        "        embeds = embeds.to(device)\n",
        "        tokens = tokens[:, :lengths.max()].to(device)\n",
        "\n",
        "        # Forward pass\n",
        "        logits = model(tokens[:, :-1], lengths - 1, embeds)\n",
        "        loss = criterion(logits.transpose(1, 2), tokens[:, 1:])\n",
        "        loss.backward()  # Накопление градиентов\n",
        "\n",
        "        # Обновление весов после указанных шагов накопления\n",
        "        if (i + 1) % accumulation_steps == 0:\n",
        "            optimizer.step()  # Обновление весов модели\n",
        "            optimizer.zero_grad()  # Удаление градиентов для следующего накопления\n",
        "\n",
        "        train_loss += loss.item() * embeds.shape[0]\n",
        "\n",
        "    # Обработка всех оставшихся градиентов, если общее количество пакетов не кратно шагу накопления.\n",
        "    if len(train_loader) % accumulation_steps != 0:\n",
        "        optimizer.step()\n",
        "        optimizer.zero_grad()\n",
        "\n",
        "    train_loss /= len(train_loader.dataset)\n",
        "    return train_loss\n",
        "\n",
        "@torch.no_grad()\n",
        "def validation_epoch(model, criterion, valid_loader, tqdm_desc):\n",
        "    valid_loss = 0.0\n",
        "    model.eval()\n",
        "    for tokens, lengths, embeds in tqdm(valid_loader, desc=tqdm_desc):\n",
        "        embeds = embeds.to(device)\n",
        "        tokens = tokens[:, :lengths.max()].to(device)\n",
        "\n",
        "        logits = model(tokens[:, :-1], lengths - 1, embeds)\n",
        "        loss = criterion(logits.transpose(1, 2), tokens[:, 1:])\n",
        "\n",
        "        valid_loss += loss.item() * embeds.shape[0]\n",
        "\n",
        "    valid_loss /= len(valid_loader.dataset)\n",
        "    return valid_loss\n",
        "\n",
        "def evaluate_bleu(model, embeds_loader, descriptions):\n",
        "    bleu = BLEUScore()\n",
        "    predictions = []\n",
        "    model.eval()\n",
        "    for embeds in tqdm(embeds_loader, desc='Evaluating BLEU'):\n",
        "        tokens = model.inference(embeds.to(device)).cpu()\n",
        "        for token_list in tokens:\n",
        "            predictions += [train_set.decode(token_list)]\n",
        "\n",
        "    return bleu(predictions, descriptions).item()\n",
        "\n",
        "def train(model, optimizer, scheduler, criterion, train_loader, valid_loader,\n",
        "          embeds_loader, descriptions_list, num_epochs):\n",
        "    train_losses, valid_losses, valid_blues = [], [], []\n",
        "\n",
        "    for epoch in range(1, num_epochs + 1):\n",
        "        train_loss = training_epoch(\n",
        "            model, optimizer, criterion, train_loader,\n",
        "            tqdm_desc=f'Training {epoch}/{num_epochs}'\n",
        "        )\n",
        "        valid_loss = validation_epoch(\n",
        "            model, criterion, valid_loader,\n",
        "            tqdm_desc=f'Validating {epoch}/{num_epochs}'\n",
        "        )\n",
        "\n",
        "        if epoch % BLEU_FREQ == 0:\n",
        "            valid_bleu = evaluate_bleu(model, embeds_loader, descriptions_list)\n",
        "            valid_blues += [valid_bleu]\n",
        "\n",
        "        if scheduler is not None:\n",
        "            scheduler.step()\n",
        "\n",
        "        train_losses += [train_loss]\n",
        "        valid_losses += [valid_loss]\n",
        "        plot_losses(train_losses, valid_losses, valid_blues)\n",
        "\n",
        "        # Очистка кеша от неиспользованных тензоров\n",
        "        torch.cuda.empty_cache()\n",
        "        gc.collect()\n",
        "        # вывод сводки использования памяти GPU\n",
        "        print(f\"После эпохи {epoch}:\")\n",
        "        print(torch.cuda.memory_summary(device=device, abbreviated=True))\n",
        "\n",
        "# Ensure to set the device appropriately\n",
        "device = torch.device(\"cuda\" if torch.cuda.is_available() else \"cpu\")"
      ],
      "metadata": {
        "id": "0zsS1lSZgJFc"
      },
      "id": "0zsS1lSZgJFc",
      "execution_count": 213,
      "outputs": []
    },
    {
      "cell_type": "code",
      "source": [
        "NUM_EPOCHS = 5\n",
        "\n",
        "model = DescriptionRNN(image_embeds.shape[1], tokenizer=tokenizer, dropout=0.3).to(device)\n",
        "optimizer = torch.optim.Adam(model.parameters(), lr=1e-3, weight_decay=1e-6)\n",
        "scheduler = None\n",
        "criterion = nn.CrossEntropyLoss(ignore_index=PAD_IDX)\n",
        "\n",
        "sum(param.numel() for param in model.parameters())"
      ],
      "metadata": {
        "id": "U0wnvFqzdtLS",
        "colab": {
          "base_uri": "https://localhost:8080/"
        },
        "outputId": "2c4cfbea-ae8f-4a0c-c338-34af439d61a7"
      },
      "id": "U0wnvFqzdtLS",
      "execution_count": 210,
      "outputs": [
        {
          "output_type": "execute_result",
          "data": {
            "text/plain": [
              "3388108"
            ]
          },
          "metadata": {},
          "execution_count": 210
        }
      ]
    },
    {
      "cell_type": "code",
      "source": [
        "print(f'Random BLEU: {evaluate_bleu(model, embeds_loader, descriptions_list):.4f}')"
      ],
      "metadata": {
        "id": "KI1euBwkeWO-",
        "colab": {
          "base_uri": "https://localhost:8080/"
        },
        "outputId": "635dce48-a84b-4a3a-e864-30b147539f0c"
      },
      "id": "KI1euBwkeWO-",
      "execution_count": 214,
      "outputs": [
        {
          "output_type": "stream",
          "name": "stderr",
          "text": [
            "Evaluating BLEU: 100%|██████████| 8/8 [33:19<00:00, 249.95s/it]\n"
          ]
        },
        {
          "output_type": "stream",
          "name": "stdout",
          "text": [
            "Random BLEU: 0.0000\n"
          ]
        }
      ]
    },
    {
      "cell_type": "code",
      "source": [
        "train(model, optimizer, scheduler,\n",
        "      criterion, train_loader, test_loader,\n",
        "      embeds_loader, descriptions_list, NUM_EPOCHS)"
      ],
      "metadata": {
        "id": "yiCQr2GGed5_",
        "colab": {
          "base_uri": "https://localhost:8080/",
          "height": 926
        },
        "outputId": "97e45727-1886-4034-ff0b-52e566e58609"
      },
      "id": "yiCQr2GGed5_",
      "execution_count": 215,
      "outputs": [
        {
          "output_type": "display_data",
          "data": {
            "text/plain": [
              "<Figure size 1300x400 with 2 Axes>"
            ],
            "image/png": "[encoded data removed]"
          },
          "metadata": {}
        },
        {
          "output_type": "stream",
          "name": "stdout",
          "text": [
            "После эпохи 5:\n",
            "|===========================================================================|\n",
            "|                  PyTorch CUDA memory summary, device ID 0                 |\n",
            "|---------------------------------------------------------------------------|\n",
            "|            CUDA OOMs: 0            |        cudaMalloc retries: 0         |\n",
            "|===========================================================================|\n",
            "|        Metric         | Cur Usage  | Peak Usage | Tot Alloc  | Tot Freed  |\n",
            "|---------------------------------------------------------------------------|\n",
            "| Allocated memory      | 475749 KiB |   5690 MiB |   2172 GiB |   2172 GiB |\n",
            "|---------------------------------------------------------------------------|\n",
            "| Active memory         | 475749 KiB |   5690 MiB |   2172 GiB |   2172 GiB |\n",
            "|---------------------------------------------------------------------------|\n",
            "| Requested memory      | 473331 KiB |   5689 MiB |   2170 GiB |   2170 GiB |\n",
            "|---------------------------------------------------------------------------|\n",
            "| GPU reserved memory   |   1820 MiB |   8656 MiB |  35868 MiB |  34048 MiB |\n",
            "|---------------------------------------------------------------------------|\n",
            "| Non-releasable memory |   1355 MiB |   4705 MiB |   1860 GiB |   1859 GiB |\n",
            "|---------------------------------------------------------------------------|\n",
            "| Allocations           |     371    |     940    |   64104    |   63733    |\n",
            "|---------------------------------------------------------------------------|\n",
            "| Active allocs         |     371    |     940    |   64104    |   63733    |\n",
            "|---------------------------------------------------------------------------|\n",
            "| GPU reserved segments |      12    |      14    |      57    |      45    |\n",
            "|---------------------------------------------------------------------------|\n",
            "| Non-releasable allocs |      28    |      32    |   18695    |   18667    |\n",
            "|---------------------------------------------------------------------------|\n",
            "| Oversize allocations  |       0    |       0    |       0    |       0    |\n",
            "|---------------------------------------------------------------------------|\n",
            "| Oversize GPU segments |       0    |       0    |       0    |       0    |\n",
            "|===========================================================================|\n",
            "\n"
          ]
        }
      ]
    },
    {
      "cell_type": "markdown",
      "source": [
        "# Результат генерации"
      ],
      "metadata": {
        "id": "oEnpuzrK_FZR"
      },
      "id": "oEnpuzrK_FZR"
    },
    {
      "cell_type": "code",
      "source": [
        "def description_random_test_image():\n",
        "    index = np.random.randint(len(test_images))\n",
        "    image_file = test_images[index]\n",
        "    tokens = model.inference(image_embeds[index].unsqueeze(0).to(device)).cpu().squeeze()\n",
        "    prediction = train_set.decode(tokens)\n",
        "    print('Prediction:', prediction)\n",
        "\n",
        "    for i, description in enumerate(descriptions[descriptions.image_id == image_file].description):\n",
        "        print(f'GT description #{i + 1}:', description)\n",
        "\n",
        "    return Image.open(os.path.join('/content/formula_images', image_file)).convert('RGB')\n",
        "\n",
        "description_random_test_image()"
      ],
      "metadata": {
        "id": "vNSPDb0BerKe",
        "colab": {
          "base_uri": "https://localhost:8080/",
          "height": 1000
        },
        "outputId": "a923bcb5-74c4-43ac-dc6e-5537df02cede"
      },
      "id": "vNSPDb0BerKe",
      "execution_count": 218,
      "outputs": [
        {
          "output_type": "stream",
          "name": "stdout",
          "text": [
            "Prediction: \n",
            "GT description #1: D_I = \\sum_{a=1}^{N} q_I^a \\left( |h_a|^2 - |\\tilde h_a|^2 \\right),\\label{Dterm}\n"
          ]
        },
        {
          "output_type": "stream",
          "name": "stderr",
          "text": [
            "/usr/local/lib/python3.11/dist-packages/PIL/Image.py:1045: UserWarning: Palette images with Transparency expressed in bytes should be converted to RGBA images\n",
            "  warnings.warn(\n"
          ]
        },
        {
          "output_type": "execute_result",
          "data": {
            "text/plain": [
              "<PIL.Image.Image image mode=RGB size=1654x2339>"
            ],
            "image/png": "[encoded data removed]",
            "image/jpeg": "[encoded data removed]"
          },
          "metadata": {},
          "execution_count": 218
        }
      ]
    }
  ],
  "metadata": {
    "colab": {
      "provenance": [],
      "gpuType": "T4",
      "include_colab_link": true
    },
    "kernelspec": {
      "display_name": "Python 3",
      "name": "python3"
    },
    "language_info": {
      "codemirror_mode": {
        "name": "ipython",
        "version": 3
      },
      "file_extension": ".py",
      "mimetype": "text/x-python",
      "name": "python",
      "nbconvert_exporter": "python",
      "pygments_lexer": "ipython3",
      "version": "3.12.7"
    },
    "accelerator": "GPU"
  },
  "nbformat": 4,
  "nbformat_minor": 5
}